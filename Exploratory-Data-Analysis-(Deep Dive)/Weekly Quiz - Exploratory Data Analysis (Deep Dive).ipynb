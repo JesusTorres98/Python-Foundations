{
 "cells": [
  {
   "cell_type": "code",
   "execution_count": 4,
   "id": "6803f025",
   "metadata": {},
   "outputs": [],
   "source": [
    "import numpy as np \n",
    "import pandas as pd\n",
    "import seaborn as sns\n",
    "sns.set_style('darkgrid')\n",
    "from scipy import stats"
   ]
  },
  {
   "cell_type": "code",
   "execution_count": 2,
   "id": "e03ed548",
   "metadata": {},
   "outputs": [],
   "source": [
    "data = pd.read_csv('Slump Test.csv')"
   ]
  },
  {
   "cell_type": "code",
   "execution_count": 3,
   "id": "347693c6",
   "metadata": {},
   "outputs": [],
   "source": [
    "# How many modes are present in the variable ‘Strength’ of the dataset?"
   ]
  },
  {
   "cell_type": "code",
   "execution_count": 4,
   "id": "c7bae634",
   "metadata": {},
   "outputs": [
    {
     "data": {
      "text/html": [
       "<div>\n",
       "<style scoped>\n",
       "    .dataframe tbody tr th:only-of-type {\n",
       "        vertical-align: middle;\n",
       "    }\n",
       "\n",
       "    .dataframe tbody tr th {\n",
       "        vertical-align: top;\n",
       "    }\n",
       "\n",
       "    .dataframe thead th {\n",
       "        text-align: right;\n",
       "    }\n",
       "</style>\n",
       "<table border=\"1\" class=\"dataframe\">\n",
       "  <thead>\n",
       "    <tr style=\"text-align: right;\">\n",
       "      <th></th>\n",
       "      <th>Cement</th>\n",
       "      <th>Slag</th>\n",
       "      <th>Fly ash</th>\n",
       "      <th>Water</th>\n",
       "      <th>SP</th>\n",
       "      <th>Coarse</th>\n",
       "      <th>Fine</th>\n",
       "      <th>SLUMP</th>\n",
       "      <th>FLOW</th>\n",
       "      <th>Strength</th>\n",
       "    </tr>\n",
       "  </thead>\n",
       "  <tbody>\n",
       "    <tr>\n",
       "      <th>0</th>\n",
       "      <td>273.0</td>\n",
       "      <td>82.0</td>\n",
       "      <td>105.0</td>\n",
       "      <td>210.0</td>\n",
       "      <td>9.0</td>\n",
       "      <td>904.0</td>\n",
       "      <td>680.0</td>\n",
       "      <td>23.0</td>\n",
       "      <td>62.0</td>\n",
       "      <td>34.99</td>\n",
       "    </tr>\n",
       "    <tr>\n",
       "      <th>1</th>\n",
       "      <td>163.0</td>\n",
       "      <td>149.0</td>\n",
       "      <td>191.0</td>\n",
       "      <td>180.0</td>\n",
       "      <td>12.0</td>\n",
       "      <td>843.0</td>\n",
       "      <td>746.0</td>\n",
       "      <td>0.0</td>\n",
       "      <td>20.0</td>\n",
       "      <td>41.14</td>\n",
       "    </tr>\n",
       "    <tr>\n",
       "      <th>2</th>\n",
       "      <td>162.0</td>\n",
       "      <td>148.0</td>\n",
       "      <td>191.0</td>\n",
       "      <td>179.0</td>\n",
       "      <td>16.0</td>\n",
       "      <td>840.0</td>\n",
       "      <td>743.0</td>\n",
       "      <td>1.0</td>\n",
       "      <td>20.0</td>\n",
       "      <td>41.81</td>\n",
       "    </tr>\n",
       "    <tr>\n",
       "      <th>3</th>\n",
       "      <td>162.0</td>\n",
       "      <td>148.0</td>\n",
       "      <td>190.0</td>\n",
       "      <td>179.0</td>\n",
       "      <td>19.0</td>\n",
       "      <td>838.0</td>\n",
       "      <td>741.0</td>\n",
       "      <td>3.0</td>\n",
       "      <td>21.5</td>\n",
       "      <td>42.08</td>\n",
       "    </tr>\n",
       "    <tr>\n",
       "      <th>4</th>\n",
       "      <td>154.0</td>\n",
       "      <td>112.0</td>\n",
       "      <td>144.0</td>\n",
       "      <td>220.0</td>\n",
       "      <td>10.0</td>\n",
       "      <td>923.0</td>\n",
       "      <td>658.0</td>\n",
       "      <td>20.0</td>\n",
       "      <td>64.0</td>\n",
       "      <td>26.82</td>\n",
       "    </tr>\n",
       "  </tbody>\n",
       "</table>\n",
       "</div>"
      ],
      "text/plain": [
       "   Cement   Slag  Fly ash  Water    SP  Coarse   Fine  SLUMP  FLOW  Strength\n",
       "0   273.0   82.0    105.0  210.0   9.0   904.0  680.0   23.0  62.0     34.99\n",
       "1   163.0  149.0    191.0  180.0  12.0   843.0  746.0    0.0  20.0     41.14\n",
       "2   162.0  148.0    191.0  179.0  16.0   840.0  743.0    1.0  20.0     41.81\n",
       "3   162.0  148.0    190.0  179.0  19.0   838.0  741.0    3.0  21.5     42.08\n",
       "4   154.0  112.0    144.0  220.0  10.0   923.0  658.0   20.0  64.0     26.82"
      ]
     },
     "execution_count": 4,
     "metadata": {},
     "output_type": "execute_result"
    }
   ],
   "source": [
    "data.head()"
   ]
  },
  {
   "cell_type": "code",
   "execution_count": 6,
   "id": "1074cfcb",
   "metadata": {},
   "outputs": [
    {
     "data": {
      "text/plain": [
       "0     26.42\n",
       "1     28.29\n",
       "2     29.77\n",
       "3     30.43\n",
       "4     30.97\n",
       "5     32.71\n",
       "6     33.51\n",
       "7     33.78\n",
       "8     34.99\n",
       "9     35.52\n",
       "10    36.19\n",
       "11    37.39\n",
       "12    38.46\n",
       "13    41.01\n",
       "14    41.14\n",
       "15    41.27\n",
       "16    41.81\n",
       "17    42.08\n",
       "18    44.08\n",
       "19    52.65\n",
       "dtype: float64"
      ]
     },
     "execution_count": 6,
     "metadata": {},
     "output_type": "execute_result"
    }
   ],
   "source": [
    "data['Strength'].mode()"
   ]
  },
  {
   "cell_type": "code",
   "execution_count": 7,
   "id": "fa474391",
   "metadata": {},
   "outputs": [],
   "source": [
    "# What is the mean of the variable 'Water' in the dataset?"
   ]
  },
  {
   "cell_type": "code",
   "execution_count": 9,
   "id": "d705af11",
   "metadata": {},
   "outputs": [
    {
     "data": {
      "text/html": [
       "<div>\n",
       "<style scoped>\n",
       "    .dataframe tbody tr th:only-of-type {\n",
       "        vertical-align: middle;\n",
       "    }\n",
       "\n",
       "    .dataframe tbody tr th {\n",
       "        vertical-align: top;\n",
       "    }\n",
       "\n",
       "    .dataframe thead th {\n",
       "        text-align: right;\n",
       "    }\n",
       "</style>\n",
       "<table border=\"1\" class=\"dataframe\">\n",
       "  <thead>\n",
       "    <tr style=\"text-align: right;\">\n",
       "      <th></th>\n",
       "      <th>Cement</th>\n",
       "      <th>Slag</th>\n",
       "      <th>Fly ash</th>\n",
       "      <th>Water</th>\n",
       "      <th>SP</th>\n",
       "      <th>Coarse</th>\n",
       "      <th>Fine</th>\n",
       "      <th>SLUMP</th>\n",
       "      <th>FLOW</th>\n",
       "      <th>Strength</th>\n",
       "    </tr>\n",
       "  </thead>\n",
       "  <tbody>\n",
       "    <tr>\n",
       "      <th>count</th>\n",
       "      <td>103.000000</td>\n",
       "      <td>103.000000</td>\n",
       "      <td>103.000000</td>\n",
       "      <td>103.000000</td>\n",
       "      <td>103.000000</td>\n",
       "      <td>103.000000</td>\n",
       "      <td>103.000000</td>\n",
       "      <td>103.000000</td>\n",
       "      <td>103.00000</td>\n",
       "      <td>103.000000</td>\n",
       "    </tr>\n",
       "    <tr>\n",
       "      <th>mean</th>\n",
       "      <td>229.894175</td>\n",
       "      <td>77.973786</td>\n",
       "      <td>149.014563</td>\n",
       "      <td>197.167961</td>\n",
       "      <td>8.539806</td>\n",
       "      <td>883.978641</td>\n",
       "      <td>739.604854</td>\n",
       "      <td>18.048544</td>\n",
       "      <td>49.61068</td>\n",
       "      <td>36.039417</td>\n",
       "    </tr>\n",
       "    <tr>\n",
       "      <th>std</th>\n",
       "      <td>78.877230</td>\n",
       "      <td>60.461363</td>\n",
       "      <td>85.418080</td>\n",
       "      <td>20.208158</td>\n",
       "      <td>2.807530</td>\n",
       "      <td>88.391393</td>\n",
       "      <td>63.342117</td>\n",
       "      <td>8.750844</td>\n",
       "      <td>17.56861</td>\n",
       "      <td>7.838232</td>\n",
       "    </tr>\n",
       "    <tr>\n",
       "      <th>min</th>\n",
       "      <td>137.000000</td>\n",
       "      <td>0.000000</td>\n",
       "      <td>0.000000</td>\n",
       "      <td>160.000000</td>\n",
       "      <td>4.400000</td>\n",
       "      <td>708.000000</td>\n",
       "      <td>640.600000</td>\n",
       "      <td>0.000000</td>\n",
       "      <td>20.00000</td>\n",
       "      <td>17.190000</td>\n",
       "    </tr>\n",
       "    <tr>\n",
       "      <th>25%</th>\n",
       "      <td>152.000000</td>\n",
       "      <td>0.050000</td>\n",
       "      <td>115.500000</td>\n",
       "      <td>180.000000</td>\n",
       "      <td>6.000000</td>\n",
       "      <td>819.500000</td>\n",
       "      <td>684.500000</td>\n",
       "      <td>14.500000</td>\n",
       "      <td>38.50000</td>\n",
       "      <td>30.900000</td>\n",
       "    </tr>\n",
       "    <tr>\n",
       "      <th>50%</th>\n",
       "      <td>248.000000</td>\n",
       "      <td>100.000000</td>\n",
       "      <td>164.000000</td>\n",
       "      <td>196.000000</td>\n",
       "      <td>8.000000</td>\n",
       "      <td>879.000000</td>\n",
       "      <td>742.700000</td>\n",
       "      <td>21.500000</td>\n",
       "      <td>54.00000</td>\n",
       "      <td>35.520000</td>\n",
       "    </tr>\n",
       "    <tr>\n",
       "      <th>75%</th>\n",
       "      <td>303.900000</td>\n",
       "      <td>125.000000</td>\n",
       "      <td>235.950000</td>\n",
       "      <td>209.500000</td>\n",
       "      <td>10.000000</td>\n",
       "      <td>952.800000</td>\n",
       "      <td>788.000000</td>\n",
       "      <td>24.000000</td>\n",
       "      <td>63.75000</td>\n",
       "      <td>41.205000</td>\n",
       "    </tr>\n",
       "    <tr>\n",
       "      <th>max</th>\n",
       "      <td>374.000000</td>\n",
       "      <td>193.000000</td>\n",
       "      <td>260.000000</td>\n",
       "      <td>240.000000</td>\n",
       "      <td>19.000000</td>\n",
       "      <td>1049.900000</td>\n",
       "      <td>902.000000</td>\n",
       "      <td>29.000000</td>\n",
       "      <td>78.00000</td>\n",
       "      <td>58.530000</td>\n",
       "    </tr>\n",
       "  </tbody>\n",
       "</table>\n",
       "</div>"
      ],
      "text/plain": [
       "           Cement        Slag     Fly ash       Water          SP  \\\n",
       "count  103.000000  103.000000  103.000000  103.000000  103.000000   \n",
       "mean   229.894175   77.973786  149.014563  197.167961    8.539806   \n",
       "std     78.877230   60.461363   85.418080   20.208158    2.807530   \n",
       "min    137.000000    0.000000    0.000000  160.000000    4.400000   \n",
       "25%    152.000000    0.050000  115.500000  180.000000    6.000000   \n",
       "50%    248.000000  100.000000  164.000000  196.000000    8.000000   \n",
       "75%    303.900000  125.000000  235.950000  209.500000   10.000000   \n",
       "max    374.000000  193.000000  260.000000  240.000000   19.000000   \n",
       "\n",
       "            Coarse        Fine       SLUMP       FLOW    Strength  \n",
       "count   103.000000  103.000000  103.000000  103.00000  103.000000  \n",
       "mean    883.978641  739.604854   18.048544   49.61068   36.039417  \n",
       "std      88.391393   63.342117    8.750844   17.56861    7.838232  \n",
       "min     708.000000  640.600000    0.000000   20.00000   17.190000  \n",
       "25%     819.500000  684.500000   14.500000   38.50000   30.900000  \n",
       "50%     879.000000  742.700000   21.500000   54.00000   35.520000  \n",
       "75%     952.800000  788.000000   24.000000   63.75000   41.205000  \n",
       "max    1049.900000  902.000000   29.000000   78.00000   58.530000  "
      ]
     },
     "execution_count": 9,
     "metadata": {},
     "output_type": "execute_result"
    }
   ],
   "source": [
    "data.describe()"
   ]
  },
  {
   "cell_type": "code",
   "execution_count": 10,
   "id": "5624b923",
   "metadata": {},
   "outputs": [],
   "source": [
    "# Following is a histogram plot of the variable 'Fly ash' with its mean, median and mode. Match the correct measure of central tendency with the correct colour."
   ]
  },
  {
   "cell_type": "code",
   "execution_count": 11,
   "id": "11b98885",
   "metadata": {},
   "outputs": [],
   "source": [
    "# The covariance between the variables ‘Cement’ and ‘Slag’ is the same as the covariance between the variables ‘Slag’ and ‘Cement."
   ]
  },
  {
   "cell_type": "code",
   "execution_count": 15,
   "id": "1062099a",
   "metadata": {},
   "outputs": [
    {
     "data": {
      "text/html": [
       "<div>\n",
       "<style scoped>\n",
       "    .dataframe tbody tr th:only-of-type {\n",
       "        vertical-align: middle;\n",
       "    }\n",
       "\n",
       "    .dataframe tbody tr th {\n",
       "        vertical-align: top;\n",
       "    }\n",
       "\n",
       "    .dataframe thead th {\n",
       "        text-align: right;\n",
       "    }\n",
       "</style>\n",
       "<table border=\"1\" class=\"dataframe\">\n",
       "  <thead>\n",
       "    <tr style=\"text-align: right;\">\n",
       "      <th></th>\n",
       "      <th>Cement</th>\n",
       "      <th>Slag</th>\n",
       "      <th>Fly ash</th>\n",
       "      <th>Water</th>\n",
       "      <th>SP</th>\n",
       "      <th>Coarse</th>\n",
       "      <th>Fine</th>\n",
       "      <th>SLUMP</th>\n",
       "      <th>FLOW</th>\n",
       "      <th>Strength</th>\n",
       "    </tr>\n",
       "  </thead>\n",
       "  <tbody>\n",
       "    <tr>\n",
       "      <th>Cement</th>\n",
       "      <td>6221.617417</td>\n",
       "      <td>-1161.508095</td>\n",
       "      <td>-3278.051679</td>\n",
       "      <td>352.411380</td>\n",
       "      <td>-23.559374</td>\n",
       "      <td>-2160.342969</td>\n",
       "      <td>284.580813</td>\n",
       "      <td>100.714991</td>\n",
       "      <td>258.390259</td>\n",
       "      <td>275.572938</td>\n",
       "    </tr>\n",
       "    <tr>\n",
       "      <th>Slag</th>\n",
       "      <td>-1161.508095</td>\n",
       "      <td>3655.576463</td>\n",
       "      <td>-1666.164124</td>\n",
       "      <td>-32.713593</td>\n",
       "      <td>52.028211</td>\n",
       "      <td>-1196.005958</td>\n",
       "      <td>-702.843499</td>\n",
       "      <td>-150.280333</td>\n",
       "      <td>-347.591678</td>\n",
       "      <td>-157.142937</td>\n",
       "    </tr>\n",
       "    <tr>\n",
       "      <th>Fly ash</th>\n",
       "      <td>-3278.051679</td>\n",
       "      <td>-1666.164124</td>\n",
       "      <td>7296.248315</td>\n",
       "      <td>-416.553646</td>\n",
       "      <td>-34.415193</td>\n",
       "      <td>1303.319236</td>\n",
       "      <td>-1530.400660</td>\n",
       "      <td>-88.667135</td>\n",
       "      <td>-83.172706</td>\n",
       "      <td>297.532714</td>\n",
       "    </tr>\n",
       "    <tr>\n",
       "      <th>Water</th>\n",
       "      <td>352.411380</td>\n",
       "      <td>-32.713593</td>\n",
       "      <td>-416.553646</td>\n",
       "      <td>408.369650</td>\n",
       "      <td>-8.819791</td>\n",
       "      <td>-1075.668338</td>\n",
       "      <td>146.679569</td>\n",
       "      <td>82.507208</td>\n",
       "      <td>224.387600</td>\n",
       "      <td>-40.269862</td>\n",
       "    </tr>\n",
       "    <tr>\n",
       "      <th>SP</th>\n",
       "      <td>-23.559374</td>\n",
       "      <td>52.028211</td>\n",
       "      <td>-34.415193</td>\n",
       "      <td>-8.819791</td>\n",
       "      <td>7.882223</td>\n",
       "      <td>-25.848357</td>\n",
       "      <td>10.366079</td>\n",
       "      <td>-5.230628</td>\n",
       "      <td>-8.696606</td>\n",
       "      <td>-0.833388</td>\n",
       "    </tr>\n",
       "    <tr>\n",
       "      <th>Coarse</th>\n",
       "      <td>-2160.342969</td>\n",
       "      <td>-1196.005958</td>\n",
       "      <td>1303.319236</td>\n",
       "      <td>-1075.668338</td>\n",
       "      <td>-25.848357</td>\n",
       "      <td>7813.038363</td>\n",
       "      <td>-2735.267542</td>\n",
       "      <td>-145.539394</td>\n",
       "      <td>-505.918691</td>\n",
       "      <td>-111.327013</td>\n",
       "    </tr>\n",
       "    <tr>\n",
       "      <th>Fine</th>\n",
       "      <td>284.580813</td>\n",
       "      <td>-702.843499</td>\n",
       "      <td>-1530.400660</td>\n",
       "      <td>146.679569</td>\n",
       "      <td>10.366079</td>\n",
       "      <td>-2735.267542</td>\n",
       "      <td>4012.223800</td>\n",
       "      <td>112.118880</td>\n",
       "      <td>211.849555</td>\n",
       "      <td>-76.699948</td>\n",
       "    </tr>\n",
       "    <tr>\n",
       "      <th>SLUMP</th>\n",
       "      <td>100.714991</td>\n",
       "      <td>-150.280333</td>\n",
       "      <td>-88.667135</td>\n",
       "      <td>82.507208</td>\n",
       "      <td>-5.230628</td>\n",
       "      <td>-145.539394</td>\n",
       "      <td>112.118880</td>\n",
       "      <td>76.577277</td>\n",
       "      <td>139.309280</td>\n",
       "      <td>-15.320388</td>\n",
       "    </tr>\n",
       "    <tr>\n",
       "      <th>FLOW</th>\n",
       "      <td>258.390259</td>\n",
       "      <td>-347.591678</td>\n",
       "      <td>-83.172706</td>\n",
       "      <td>224.387600</td>\n",
       "      <td>-8.696606</td>\n",
       "      <td>-505.918691</td>\n",
       "      <td>211.849555</td>\n",
       "      <td>139.309280</td>\n",
       "      <td>308.656061</td>\n",
       "      <td>-17.079700</td>\n",
       "    </tr>\n",
       "    <tr>\n",
       "      <th>Strength</th>\n",
       "      <td>275.572938</td>\n",
       "      <td>-157.142937</td>\n",
       "      <td>297.532714</td>\n",
       "      <td>-40.269862</td>\n",
       "      <td>-0.833388</td>\n",
       "      <td>-111.327013</td>\n",
       "      <td>-76.699948</td>\n",
       "      <td>-15.320388</td>\n",
       "      <td>-17.079700</td>\n",
       "      <td>61.437878</td>\n",
       "    </tr>\n",
       "  </tbody>\n",
       "</table>\n",
       "</div>"
      ],
      "text/plain": [
       "               Cement         Slag      Fly ash        Water         SP  \\\n",
       "Cement    6221.617417 -1161.508095 -3278.051679   352.411380 -23.559374   \n",
       "Slag     -1161.508095  3655.576463 -1666.164124   -32.713593  52.028211   \n",
       "Fly ash  -3278.051679 -1666.164124  7296.248315  -416.553646 -34.415193   \n",
       "Water      352.411380   -32.713593  -416.553646   408.369650  -8.819791   \n",
       "SP         -23.559374    52.028211   -34.415193    -8.819791   7.882223   \n",
       "Coarse   -2160.342969 -1196.005958  1303.319236 -1075.668338 -25.848357   \n",
       "Fine       284.580813  -702.843499 -1530.400660   146.679569  10.366079   \n",
       "SLUMP      100.714991  -150.280333   -88.667135    82.507208  -5.230628   \n",
       "FLOW       258.390259  -347.591678   -83.172706   224.387600  -8.696606   \n",
       "Strength   275.572938  -157.142937   297.532714   -40.269862  -0.833388   \n",
       "\n",
       "               Coarse         Fine       SLUMP        FLOW    Strength  \n",
       "Cement   -2160.342969   284.580813  100.714991  258.390259  275.572938  \n",
       "Slag     -1196.005958  -702.843499 -150.280333 -347.591678 -157.142937  \n",
       "Fly ash   1303.319236 -1530.400660  -88.667135  -83.172706  297.532714  \n",
       "Water    -1075.668338   146.679569   82.507208  224.387600  -40.269862  \n",
       "SP         -25.848357    10.366079   -5.230628   -8.696606   -0.833388  \n",
       "Coarse    7813.038363 -2735.267542 -145.539394 -505.918691 -111.327013  \n",
       "Fine     -2735.267542  4012.223800  112.118880  211.849555  -76.699948  \n",
       "SLUMP     -145.539394   112.118880   76.577277  139.309280  -15.320388  \n",
       "FLOW      -505.918691   211.849555  139.309280  308.656061  -17.079700  \n",
       "Strength  -111.327013   -76.699948  -15.320388  -17.079700   61.437878  "
      ]
     },
     "execution_count": 15,
     "metadata": {},
     "output_type": "execute_result"
    }
   ],
   "source": [
    "data.cov()"
   ]
  },
  {
   "cell_type": "code",
   "execution_count": 16,
   "id": "672c1ebe",
   "metadata": {},
   "outputs": [],
   "source": [
    "# What is the correlation coefficient between the variables ‘Coarse’ and ‘Cement’?"
   ]
  },
  {
   "cell_type": "code",
   "execution_count": 17,
   "id": "4c48c298",
   "metadata": {},
   "outputs": [
    {
     "data": {
      "text/html": [
       "<div>\n",
       "<style scoped>\n",
       "    .dataframe tbody tr th:only-of-type {\n",
       "        vertical-align: middle;\n",
       "    }\n",
       "\n",
       "    .dataframe tbody tr th {\n",
       "        vertical-align: top;\n",
       "    }\n",
       "\n",
       "    .dataframe thead th {\n",
       "        text-align: right;\n",
       "    }\n",
       "</style>\n",
       "<table border=\"1\" class=\"dataframe\">\n",
       "  <thead>\n",
       "    <tr style=\"text-align: right;\">\n",
       "      <th></th>\n",
       "      <th>Cement</th>\n",
       "      <th>Slag</th>\n",
       "      <th>Fly ash</th>\n",
       "      <th>Water</th>\n",
       "      <th>SP</th>\n",
       "      <th>Coarse</th>\n",
       "      <th>Fine</th>\n",
       "      <th>SLUMP</th>\n",
       "      <th>FLOW</th>\n",
       "      <th>Strength</th>\n",
       "    </tr>\n",
       "  </thead>\n",
       "  <tbody>\n",
       "    <tr>\n",
       "      <th>Cement</th>\n",
       "      <td>1.000000</td>\n",
       "      <td>-0.243553</td>\n",
       "      <td>-0.486535</td>\n",
       "      <td>0.221091</td>\n",
       "      <td>-0.106387</td>\n",
       "      <td>-0.309857</td>\n",
       "      <td>0.056959</td>\n",
       "      <td>0.145913</td>\n",
       "      <td>0.186461</td>\n",
       "      <td>0.445725</td>\n",
       "    </tr>\n",
       "    <tr>\n",
       "      <th>Slag</th>\n",
       "      <td>-0.243553</td>\n",
       "      <td>1.000000</td>\n",
       "      <td>-0.322619</td>\n",
       "      <td>-0.026775</td>\n",
       "      <td>0.306504</td>\n",
       "      <td>-0.223792</td>\n",
       "      <td>-0.183522</td>\n",
       "      <td>-0.284037</td>\n",
       "      <td>-0.327231</td>\n",
       "      <td>-0.331588</td>\n",
       "    </tr>\n",
       "    <tr>\n",
       "      <th>Fly ash</th>\n",
       "      <td>-0.486535</td>\n",
       "      <td>-0.322619</td>\n",
       "      <td>1.000000</td>\n",
       "      <td>-0.241321</td>\n",
       "      <td>-0.143508</td>\n",
       "      <td>0.172620</td>\n",
       "      <td>-0.282854</td>\n",
       "      <td>-0.118621</td>\n",
       "      <td>-0.055423</td>\n",
       "      <td>0.444393</td>\n",
       "    </tr>\n",
       "    <tr>\n",
       "      <th>Water</th>\n",
       "      <td>0.221091</td>\n",
       "      <td>-0.026775</td>\n",
       "      <td>-0.241321</td>\n",
       "      <td>1.000000</td>\n",
       "      <td>-0.155456</td>\n",
       "      <td>-0.602201</td>\n",
       "      <td>0.114591</td>\n",
       "      <td>0.466568</td>\n",
       "      <td>0.632026</td>\n",
       "      <td>-0.254235</td>\n",
       "    </tr>\n",
       "    <tr>\n",
       "      <th>SP</th>\n",
       "      <td>-0.106387</td>\n",
       "      <td>0.306504</td>\n",
       "      <td>-0.143508</td>\n",
       "      <td>-0.155456</td>\n",
       "      <td>1.000000</td>\n",
       "      <td>-0.104159</td>\n",
       "      <td>0.058290</td>\n",
       "      <td>-0.212902</td>\n",
       "      <td>-0.176314</td>\n",
       "      <td>-0.037871</td>\n",
       "    </tr>\n",
       "    <tr>\n",
       "      <th>Coarse</th>\n",
       "      <td>-0.309857</td>\n",
       "      <td>-0.223792</td>\n",
       "      <td>0.172620</td>\n",
       "      <td>-0.602201</td>\n",
       "      <td>-0.104159</td>\n",
       "      <td>1.000000</td>\n",
       "      <td>-0.488537</td>\n",
       "      <td>-0.188157</td>\n",
       "      <td>-0.325787</td>\n",
       "      <td>-0.160684</td>\n",
       "    </tr>\n",
       "    <tr>\n",
       "      <th>Fine</th>\n",
       "      <td>0.056959</td>\n",
       "      <td>-0.183522</td>\n",
       "      <td>-0.282854</td>\n",
       "      <td>0.114591</td>\n",
       "      <td>0.058290</td>\n",
       "      <td>-0.488537</td>\n",
       "      <td>1.000000</td>\n",
       "      <td>0.202272</td>\n",
       "      <td>0.190370</td>\n",
       "      <td>-0.154484</td>\n",
       "    </tr>\n",
       "    <tr>\n",
       "      <th>SLUMP</th>\n",
       "      <td>0.145913</td>\n",
       "      <td>-0.284037</td>\n",
       "      <td>-0.118621</td>\n",
       "      <td>0.466568</td>\n",
       "      <td>-0.212902</td>\n",
       "      <td>-0.188157</td>\n",
       "      <td>0.202272</td>\n",
       "      <td>1.000000</td>\n",
       "      <td>0.906135</td>\n",
       "      <td>-0.223358</td>\n",
       "    </tr>\n",
       "    <tr>\n",
       "      <th>FLOW</th>\n",
       "      <td>0.186461</td>\n",
       "      <td>-0.327231</td>\n",
       "      <td>-0.055423</td>\n",
       "      <td>0.632026</td>\n",
       "      <td>-0.176314</td>\n",
       "      <td>-0.325787</td>\n",
       "      <td>0.190370</td>\n",
       "      <td>0.906135</td>\n",
       "      <td>1.000000</td>\n",
       "      <td>-0.124029</td>\n",
       "    </tr>\n",
       "    <tr>\n",
       "      <th>Strength</th>\n",
       "      <td>0.445725</td>\n",
       "      <td>-0.331588</td>\n",
       "      <td>0.444393</td>\n",
       "      <td>-0.254235</td>\n",
       "      <td>-0.037871</td>\n",
       "      <td>-0.160684</td>\n",
       "      <td>-0.154484</td>\n",
       "      <td>-0.223358</td>\n",
       "      <td>-0.124029</td>\n",
       "      <td>1.000000</td>\n",
       "    </tr>\n",
       "  </tbody>\n",
       "</table>\n",
       "</div>"
      ],
      "text/plain": [
       "            Cement      Slag   Fly ash     Water        SP    Coarse  \\\n",
       "Cement    1.000000 -0.243553 -0.486535  0.221091 -0.106387 -0.309857   \n",
       "Slag     -0.243553  1.000000 -0.322619 -0.026775  0.306504 -0.223792   \n",
       "Fly ash  -0.486535 -0.322619  1.000000 -0.241321 -0.143508  0.172620   \n",
       "Water     0.221091 -0.026775 -0.241321  1.000000 -0.155456 -0.602201   \n",
       "SP       -0.106387  0.306504 -0.143508 -0.155456  1.000000 -0.104159   \n",
       "Coarse   -0.309857 -0.223792  0.172620 -0.602201 -0.104159  1.000000   \n",
       "Fine      0.056959 -0.183522 -0.282854  0.114591  0.058290 -0.488537   \n",
       "SLUMP     0.145913 -0.284037 -0.118621  0.466568 -0.212902 -0.188157   \n",
       "FLOW      0.186461 -0.327231 -0.055423  0.632026 -0.176314 -0.325787   \n",
       "Strength  0.445725 -0.331588  0.444393 -0.254235 -0.037871 -0.160684   \n",
       "\n",
       "              Fine     SLUMP      FLOW  Strength  \n",
       "Cement    0.056959  0.145913  0.186461  0.445725  \n",
       "Slag     -0.183522 -0.284037 -0.327231 -0.331588  \n",
       "Fly ash  -0.282854 -0.118621 -0.055423  0.444393  \n",
       "Water     0.114591  0.466568  0.632026 -0.254235  \n",
       "SP        0.058290 -0.212902 -0.176314 -0.037871  \n",
       "Coarse   -0.488537 -0.188157 -0.325787 -0.160684  \n",
       "Fine      1.000000  0.202272  0.190370 -0.154484  \n",
       "SLUMP     0.202272  1.000000  0.906135 -0.223358  \n",
       "FLOW      0.190370  0.906135  1.000000 -0.124029  \n",
       "Strength -0.154484 -0.223358 -0.124029  1.000000  "
      ]
     },
     "execution_count": 17,
     "metadata": {},
     "output_type": "execute_result"
    }
   ],
   "source": [
    "data.corr()"
   ]
  },
  {
   "cell_type": "code",
   "execution_count": 18,
   "id": "1344eccd",
   "metadata": {},
   "outputs": [],
   "source": [
    "# The value of the skewness of how many variables are negative in the given dataset? [Use skew() method of Pandas Library]"
   ]
  },
  {
   "cell_type": "code",
   "execution_count": 19,
   "id": "59b60166",
   "metadata": {},
   "outputs": [
    {
     "data": {
      "text/plain": [
       "Cement      0.145140\n",
       "Slag       -0.193079\n",
       "Fly ash    -0.680019\n",
       "Water       0.263532\n",
       "SP          1.125753\n",
       "Coarse      0.121009\n",
       "Fine        0.265958\n",
       "SLUMP      -1.112837\n",
       "FLOW       -0.520705\n",
       "Strength    0.192235\n",
       "dtype: float64"
      ]
     },
     "execution_count": 19,
     "metadata": {},
     "output_type": "execute_result"
    }
   ],
   "source": [
    "data.skew()"
   ]
  },
  {
   "cell_type": "code",
   "execution_count": 20,
   "id": "696cd57e",
   "metadata": {},
   "outputs": [],
   "source": [
    "# There are no missing values in the dataset."
   ]
  },
  {
   "cell_type": "code",
   "execution_count": 21,
   "id": "edfe6062",
   "metadata": {},
   "outputs": [
    {
     "data": {
      "text/plain": [
       "Cement      0\n",
       "Slag        0\n",
       "Fly ash     0\n",
       "Water       0\n",
       "SP          0\n",
       "Coarse      0\n",
       "Fine        0\n",
       "SLUMP       0\n",
       "FLOW        0\n",
       "Strength    0\n",
       "dtype: int64"
      ]
     },
     "execution_count": 21,
     "metadata": {},
     "output_type": "execute_result"
    }
   ],
   "source": [
    "data.isnull().sum()"
   ]
  },
  {
   "cell_type": "code",
   "execution_count": 22,
   "id": "4d9ca9db",
   "metadata": {},
   "outputs": [],
   "source": [
    "# How many duplicate values are present in the variable 'FLOW'?"
   ]
  },
  {
   "cell_type": "code",
   "execution_count": 24,
   "id": "13e804cf",
   "metadata": {},
   "outputs": [
    {
     "data": {
      "text/plain": [
       "52"
      ]
     },
     "execution_count": 24,
     "metadata": {},
     "output_type": "execute_result"
    }
   ],
   "source": [
    "data.duplicated(subset = 'FLOW').sum()"
   ]
  },
  {
   "cell_type": "code",
   "execution_count": 25,
   "id": "0b3108a8",
   "metadata": {},
   "outputs": [],
   "source": [
    "# In this dataset, all the variables are not of \"float64\" type."
   ]
  },
  {
   "cell_type": "code",
   "execution_count": 28,
   "id": "3325533a",
   "metadata": {},
   "outputs": [
    {
     "name": "stdout",
     "output_type": "stream",
     "text": [
      "<class 'pandas.core.frame.DataFrame'>\n",
      "RangeIndex: 103 entries, 0 to 102\n",
      "Data columns (total 10 columns):\n",
      " #   Column    Non-Null Count  Dtype  \n",
      "---  ------    --------------  -----  \n",
      " 0   Cement    103 non-null    float64\n",
      " 1   Slag      103 non-null    float64\n",
      " 2   Fly ash   103 non-null    float64\n",
      " 3   Water     103 non-null    float64\n",
      " 4   SP        103 non-null    float64\n",
      " 5   Coarse    103 non-null    float64\n",
      " 6   Fine      103 non-null    float64\n",
      " 7   SLUMP     103 non-null    float64\n",
      " 8   FLOW      103 non-null    float64\n",
      " 9   Strength  103 non-null    float64\n",
      "dtypes: float64(10)\n",
      "memory usage: 8.2 KB\n"
     ]
    }
   ],
   "source": [
    "data.info()"
   ]
  },
  {
   "cell_type": "code",
   "execution_count": 29,
   "id": "6050f2cb",
   "metadata": {},
   "outputs": [],
   "source": [
    "# Which of the following is the boxplot of the variable ‘Strength’?"
   ]
  },
  {
   "cell_type": "code",
   "execution_count": 31,
   "id": "43c9d686",
   "metadata": {},
   "outputs": [
    {
     "data": {
      "text/plain": [
       "<AxesSubplot:ylabel='Strength'>"
      ]
     },
     "execution_count": 31,
     "metadata": {},
     "output_type": "execute_result"
    },
    {
     "data": {
      "image/png": "[encoded data removed]",
      "text/plain": [
       "<Figure size 432x288 with 1 Axes>"
      ]
     },
     "metadata": {},
     "output_type": "display_data"
    }
   ],
   "source": [
    "sns.boxplot(y = data['Strength'])"
   ]
  },
  {
   "cell_type": "code",
   "execution_count": 33,
   "id": "38b628ba",
   "metadata": {},
   "outputs": [],
   "source": [
    "# There exists a relatively strong linear relationship between the variables 'FLOW' and 'SLUMP'."
   ]
  },
  {
   "cell_type": "code",
   "execution_count": 5,
   "id": "f476ac54",
   "metadata": {},
   "outputs": [
    {
     "data": {
      "text/plain": [
       "<seaborn.axisgrid.FacetGrid at 0x7fb643b79a90>"
      ]
     },
     "execution_count": 5,
     "metadata": {},
     "output_type": "execute_result"
    },
    {
     "data": {
      "image/png": "[encoded data removed]",
      "text/plain": [
       "<Figure size 360x360 with 1 Axes>"
      ]
     },
     "metadata": {},
     "output_type": "display_data"
    }
   ],
   "source": [
    "sns.lmplot(data = data, y = 'FLOW', x = 'SLUMP')"
   ]
  },
  {
   "cell_type": "code",
   "execution_count": 41,
   "id": "357bddef",
   "metadata": {
    "scrolled": false
   },
   "outputs": [
    {
     "name": "stdout",
     "output_type": "stream",
     "text": [
      "273.0\n",
      "304.0\n",
      "354.0\n",
      "374.0\n",
      "295.0\n",
      "310.0\n",
      "296.0\n",
      "305.0\n",
      "310.0\n",
      "308.0\n",
      "295.0\n",
      "298.0\n",
      "314.0\n",
      "321.0\n",
      "349.0\n",
      "366.0\n",
      "274.0\n",
      "275.0\n",
      "252.0\n",
      "291.0\n",
      "298.0\n",
      "318.0\n",
      "280.0\n",
      "287.0\n",
      "332.0\n",
      "326.0\n",
      "320.0\n",
      "342.0\n",
      "356.0\n",
      "309.0\n",
      "322.0\n",
      "307.0\n",
      "313.0\n",
      "278.0\n",
      "288.0\n",
      "299.0\n",
      "291.0\n",
      "265.0\n",
      "320.0\n",
      "336.0\n",
      "276.0\n",
      "313.0\n",
      "322.0\n",
      "294.0\n",
      "261.0\n",
      "303.8\n",
      "295.3\n",
      "248.3\n",
      "248.0\n",
      "258.8\n",
      "297.1\n",
      "348.7\n"
     ]
    }
   ],
   "source": [
    "col = data['Cement']\n",
    "for i in col:\n",
    "    if i > data['Cement'].mean():\n",
    "        print(i)"
   ]
  },
  {
   "cell_type": "code",
   "execution_count": 42,
   "id": "477a44af",
   "metadata": {},
   "outputs": [],
   "source": [
    "# What is the Inter Quartile Range (IQR) of the variable ‘Fine’?"
   ]
  },
  {
   "cell_type": "code",
   "execution_count": 45,
   "id": "80da800d",
   "metadata": {},
   "outputs": [
    {
     "name": "stdout",
     "output_type": "stream",
     "text": [
      "103.5\n"
     ]
    }
   ],
   "source": [
    "IQR = stats.iqr(data['Fine'], interpolation = 'midpoint')\n",
    "print(IQR)"
   ]
  },
  {
   "cell_type": "code",
   "execution_count": 46,
   "id": "4bd02c9b",
   "metadata": {},
   "outputs": [],
   "source": [
    "# Which of the following is the frequency polygon of the variable 'Slag'?"
   ]
  },
  {
   "cell_type": "code",
   "execution_count": 47,
   "id": "5f1694e3",
   "metadata": {},
   "outputs": [
    {
     "data": {
      "text/plain": [
       "<AxesSubplot:xlabel='Slag', ylabel='Density'>"
      ]
     },
     "execution_count": 47,
     "metadata": {},
     "output_type": "execute_result"
    },
    {
     "data": {
      "image/png": "[encoded data removed]",
      "text/plain": [
       "<Figure size 432x288 with 1 Axes>"
      ]
     },
     "metadata": {},
     "output_type": "display_data"
    }
   ],
   "source": [
    "sns.kdeplot(data['Slag'])"
   ]
  },
  {
   "cell_type": "code",
   "execution_count": 48,
   "id": "bcd69896",
   "metadata": {},
   "outputs": [],
   "source": [
    "# Which of the following is the ogive curve for the variable 'Strength'?"
   ]
  },
  {
   "cell_type": "code",
   "execution_count": 55,
   "id": "71351ca1",
   "metadata": {},
   "outputs": [
    {
     "data": {
      "text/plain": [
       "<AxesSubplot:xlabel='Strength', ylabel='Count'>"
      ]
     },
     "execution_count": 55,
     "metadata": {},
     "output_type": "execute_result"
    },
    {
     "data": {
      "image/png": "[encoded data removed]",
      "text/plain": [
       "<Figure size 432x288 with 1 Axes>"
      ]
     },
     "metadata": {},
     "output_type": "display_data"
    }
   ],
   "source": [
    "sns.histplot(data['Strength'], kde=True)"
   ]
  },
  {
   "cell_type": "code",
   "execution_count": 56,
   "id": "3ccee461",
   "metadata": {},
   "outputs": [],
   "source": [
    "# Is the value of the 101st row of the 4th column greater than the 103rd row of the 4th column?"
   ]
  },
  {
   "cell_type": "code",
   "execution_count": 61,
   "id": "2e63e63d",
   "metadata": {},
   "outputs": [
    {
     "data": {
      "text/plain": [
       "194.0"
      ]
     },
     "execution_count": 61,
     "metadata": {},
     "output_type": "execute_result"
    }
   ],
   "source": [
    "data.iloc[101,3]"
   ]
  },
  {
   "cell_type": "code",
   "execution_count": 63,
   "id": "30c2b9dc",
   "metadata": {},
   "outputs": [
    {
     "data": {
      "text/plain": [
       "208.5"
      ]
     },
     "execution_count": 63,
     "metadata": {},
     "output_type": "execute_result"
    }
   ],
   "source": [
    "data.iloc[102,3]"
   ]
  },
  {
   "cell_type": "code",
   "execution_count": 62,
   "id": "3cc1c558",
   "metadata": {},
   "outputs": [
    {
     "data": {
      "text/html": [
       "<div>\n",
       "<style scoped>\n",
       "    .dataframe tbody tr th:only-of-type {\n",
       "        vertical-align: middle;\n",
       "    }\n",
       "\n",
       "    .dataframe tbody tr th {\n",
       "        vertical-align: top;\n",
       "    }\n",
       "\n",
       "    .dataframe thead th {\n",
       "        text-align: right;\n",
       "    }\n",
       "</style>\n",
       "<table border=\"1\" class=\"dataframe\">\n",
       "  <thead>\n",
       "    <tr style=\"text-align: right;\">\n",
       "      <th></th>\n",
       "      <th>Cement</th>\n",
       "      <th>Slag</th>\n",
       "      <th>Fly ash</th>\n",
       "      <th>Water</th>\n",
       "      <th>SP</th>\n",
       "      <th>Coarse</th>\n",
       "      <th>Fine</th>\n",
       "      <th>SLUMP</th>\n",
       "      <th>FLOW</th>\n",
       "      <th>Strength</th>\n",
       "    </tr>\n",
       "  </thead>\n",
       "  <tbody>\n",
       "    <tr>\n",
       "      <th>93</th>\n",
       "      <td>172.0</td>\n",
       "      <td>162.1</td>\n",
       "      <td>238.5</td>\n",
       "      <td>166.0</td>\n",
       "      <td>7.4</td>\n",
       "      <td>953.3</td>\n",
       "      <td>641.4</td>\n",
       "      <td>0.0</td>\n",
       "      <td>20.0</td>\n",
       "      <td>41.54</td>\n",
       "    </tr>\n",
       "    <tr>\n",
       "      <th>94</th>\n",
       "      <td>172.8</td>\n",
       "      <td>158.3</td>\n",
       "      <td>239.5</td>\n",
       "      <td>166.4</td>\n",
       "      <td>7.4</td>\n",
       "      <td>952.6</td>\n",
       "      <td>644.1</td>\n",
       "      <td>0.0</td>\n",
       "      <td>20.0</td>\n",
       "      <td>41.81</td>\n",
       "    </tr>\n",
       "    <tr>\n",
       "      <th>95</th>\n",
       "      <td>184.3</td>\n",
       "      <td>153.4</td>\n",
       "      <td>239.2</td>\n",
       "      <td>179.0</td>\n",
       "      <td>7.5</td>\n",
       "      <td>920.2</td>\n",
       "      <td>640.9</td>\n",
       "      <td>0.0</td>\n",
       "      <td>20.0</td>\n",
       "      <td>41.01</td>\n",
       "    </tr>\n",
       "    <tr>\n",
       "      <th>96</th>\n",
       "      <td>215.6</td>\n",
       "      <td>112.9</td>\n",
       "      <td>239.0</td>\n",
       "      <td>198.7</td>\n",
       "      <td>7.4</td>\n",
       "      <td>884.0</td>\n",
       "      <td>649.1</td>\n",
       "      <td>27.5</td>\n",
       "      <td>64.0</td>\n",
       "      <td>39.13</td>\n",
       "    </tr>\n",
       "    <tr>\n",
       "      <th>97</th>\n",
       "      <td>295.3</td>\n",
       "      <td>0.0</td>\n",
       "      <td>239.9</td>\n",
       "      <td>236.2</td>\n",
       "      <td>8.3</td>\n",
       "      <td>780.3</td>\n",
       "      <td>722.9</td>\n",
       "      <td>25.0</td>\n",
       "      <td>77.0</td>\n",
       "      <td>44.08</td>\n",
       "    </tr>\n",
       "    <tr>\n",
       "      <th>98</th>\n",
       "      <td>248.3</td>\n",
       "      <td>101.0</td>\n",
       "      <td>239.1</td>\n",
       "      <td>168.9</td>\n",
       "      <td>7.7</td>\n",
       "      <td>954.2</td>\n",
       "      <td>640.6</td>\n",
       "      <td>0.0</td>\n",
       "      <td>20.0</td>\n",
       "      <td>49.97</td>\n",
       "    </tr>\n",
       "    <tr>\n",
       "      <th>99</th>\n",
       "      <td>248.0</td>\n",
       "      <td>101.0</td>\n",
       "      <td>239.9</td>\n",
       "      <td>169.1</td>\n",
       "      <td>7.7</td>\n",
       "      <td>949.9</td>\n",
       "      <td>644.1</td>\n",
       "      <td>2.0</td>\n",
       "      <td>20.0</td>\n",
       "      <td>50.23</td>\n",
       "    </tr>\n",
       "    <tr>\n",
       "      <th>100</th>\n",
       "      <td>258.8</td>\n",
       "      <td>88.0</td>\n",
       "      <td>239.6</td>\n",
       "      <td>175.3</td>\n",
       "      <td>7.6</td>\n",
       "      <td>938.9</td>\n",
       "      <td>646.0</td>\n",
       "      <td>0.0</td>\n",
       "      <td>20.0</td>\n",
       "      <td>50.50</td>\n",
       "    </tr>\n",
       "    <tr>\n",
       "      <th>101</th>\n",
       "      <td>297.1</td>\n",
       "      <td>40.9</td>\n",
       "      <td>239.9</td>\n",
       "      <td>194.0</td>\n",
       "      <td>7.5</td>\n",
       "      <td>908.9</td>\n",
       "      <td>651.8</td>\n",
       "      <td>27.5</td>\n",
       "      <td>67.0</td>\n",
       "      <td>49.17</td>\n",
       "    </tr>\n",
       "    <tr>\n",
       "      <th>102</th>\n",
       "      <td>348.7</td>\n",
       "      <td>0.1</td>\n",
       "      <td>223.1</td>\n",
       "      <td>208.5</td>\n",
       "      <td>9.6</td>\n",
       "      <td>786.2</td>\n",
       "      <td>758.1</td>\n",
       "      <td>29.0</td>\n",
       "      <td>78.0</td>\n",
       "      <td>48.77</td>\n",
       "    </tr>\n",
       "  </tbody>\n",
       "</table>\n",
       "</div>"
      ],
      "text/plain": [
       "     Cement   Slag  Fly ash  Water   SP  Coarse   Fine  SLUMP  FLOW  Strength\n",
       "93    172.0  162.1    238.5  166.0  7.4   953.3  641.4    0.0  20.0     41.54\n",
       "94    172.8  158.3    239.5  166.4  7.4   952.6  644.1    0.0  20.0     41.81\n",
       "95    184.3  153.4    239.2  179.0  7.5   920.2  640.9    0.0  20.0     41.01\n",
       "96    215.6  112.9    239.0  198.7  7.4   884.0  649.1   27.5  64.0     39.13\n",
       "97    295.3    0.0    239.9  236.2  8.3   780.3  722.9   25.0  77.0     44.08\n",
       "98    248.3  101.0    239.1  168.9  7.7   954.2  640.6    0.0  20.0     49.97\n",
       "99    248.0  101.0    239.9  169.1  7.7   949.9  644.1    2.0  20.0     50.23\n",
       "100   258.8   88.0    239.6  175.3  7.6   938.9  646.0    0.0  20.0     50.50\n",
       "101   297.1   40.9    239.9  194.0  7.5   908.9  651.8   27.5  67.0     49.17\n",
       "102   348.7    0.1    223.1  208.5  9.6   786.2  758.1   29.0  78.0     48.77"
      ]
     },
     "execution_count": 62,
     "metadata": {},
     "output_type": "execute_result"
    }
   ],
   "source": [
    "data.tail(10)"
   ]
  },
  {
   "cell_type": "code",
   "execution_count": null,
   "id": "cb84bd1c",
   "metadata": {},
   "outputs": [],
   "source": []
  }
 ],
 "metadata": {
  "kernelspec": {
   "display_name": "Python 3",
   "language": "python",
   "name": "python3"
  },
  "language_info": {
   "codemirror_mode": {
    "name": "ipython",
    "version": 3
   },
   "file_extension": ".py",
   "mimetype": "text/x-python",
   "name": "python",
   "nbconvert_exporter": "python",
   "pygments_lexer": "ipython3",
   "version": "3.8.8"
  }
 },
 "nbformat": 4,
 "nbformat_minor": 5
}

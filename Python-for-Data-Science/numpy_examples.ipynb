{
 "cells": [
  {
   "cell_type": "markdown",
   "metadata": {},
   "source": [
    "# NumPy\n",
    "\n",
    "numpy is python's package for doing math that is more advanced than +-*/\n",
    "\n",
    "This includes special functions like cosine, exponential, sqrt, ...\n",
    "\n",
    "On top of this we can use numpy to generate samples from many types of random variables\n",
    "\n",
    "numpy also has a powerful data type to define vectors, matrices, and tensors\n",
    "\n",
    "With these data types numpy also allows us to do linear algebra - matrix multiplication and matrix-vector solutions"
   ]
  },
  {
   "cell_type": "code",
   "execution_count": 1,
   "metadata": {},
   "outputs": [],
   "source": [
    "# the first step of using numpy is to tell python to use it\n",
    "import numpy as np"
   ]
  },
  {
   "cell_type": "code",
   "execution_count": 2,
   "metadata": {},
   "outputs": [
    {
     "name": "stdout",
     "output_type": "stream",
     "text": [
      "-1.0\n",
      "1.1\n",
      "5.2\n"
     ]
    }
   ],
   "source": [
    "print(np.cos(np.pi))\n",
    "print(np.sqrt(1.21))\n",
    "print(np.log(np.exp(5.2)))"
   ]
  },
  {
   "cell_type": "code",
   "execution_count": 3,
   "metadata": {},
   "outputs": [
    {
     "name": "stdout",
     "output_type": "stream",
     "text": [
      "[1 2 3]\n",
      "\n",
      "[[1 2 1]\n",
      " [4 5 9]\n",
      " [1 8 9]]\n",
      "\n",
      "[[1 4 1]\n",
      " [2 5 8]\n",
      " [1 9 9]]\n"
     ]
    }
   ],
   "source": [
    "# we can create numpy arrays by converting lists\n",
    "# this is a vector\n",
    "vec = np.array([1,2,3])\n",
    "print(vec)\n",
    "# we can create matrices by converting lists of lists\n",
    "mat = np.array([[1,2,1],[4,5,9],[1,8,9]])\n",
    "print('')\n",
    "print(mat)\n",
    "print('')\n",
    "print(mat.T)"
   ]
  },
  {
   "cell_type": "code",
   "execution_count": 4,
   "metadata": {},
   "outputs": [
    {
     "name": "stdout",
     "output_type": "stream",
     "text": [
      "[ 0  1  2  3  4  5  6  7  8  9 10 11 12 13 14]\n",
      "\n",
      "[ 3  9 15]\n"
     ]
    }
   ],
   "source": [
    "# there are lots of other ways to create numpy arrays\n",
    "vec2 = np.arange(0,15)\n",
    "print(vec2)\n",
    "print('')\n",
    "vec3 = np.arange(3,21,6)\n",
    "print(vec3)\n"
   ]
  },
  {
   "cell_type": "code",
   "execution_count": 7,
   "metadata": {},
   "outputs": [
    {
     "name": "stdout",
     "output_type": "stream",
     "text": [
      "[0.         0.55555556 1.11111111 1.66666667 2.22222222 2.77777778\n",
      " 3.33333333 3.88888889 4.44444444 5.        ]\n",
      "\n",
      "[[0.         0.55555556]\n",
      " [1.11111111 1.66666667]\n",
      " [2.22222222 2.77777778]\n",
      " [3.33333333 3.88888889]\n",
      " [4.44444444 5.        ]]\n",
      "[[0.         0.55555556]\n",
      " [1.11111111 1.66666667]\n",
      " [2.22222222 2.77777778]\n",
      " [3.33333333 3.88888889]\n",
      " [4.44444444 5.        ]]\n",
      "[0.         0.55555556 1.11111111 1.66666667 2.22222222 2.77777778\n",
      " 3.33333333 3.88888889 4.44444444 5.        ]\n"
     ]
    }
   ],
   "source": [
    "\n",
    "vec4 = np.linspace(0,5,10)\n",
    "print(vec4)\n",
    "print('')\n",
    "print(vec4.reshape(5,2))\n",
    "vec4_reshaped = vec4.reshape(5,2)\n",
    "print(vec4_reshaped)\n",
    "print(vec4)"
   ]
  },
  {
   "cell_type": "code",
   "execution_count": 8,
   "metadata": {},
   "outputs": [
    {
     "name": "stdout",
     "output_type": "stream",
     "text": [
      "[[0. 0. 0.]\n",
      " [0. 0. 0.]\n",
      " [0. 0. 0.]\n",
      " [0. 0. 0.]\n",
      " [0. 0. 0.]]\n",
      "\n",
      "[[1. 1. 1. 1. 1.]\n",
      " [1. 1. 1. 1. 1.]\n",
      " [1. 1. 1. 1. 1.]]\n",
      "\n",
      "[[1. 0. 0. 0. 0.]\n",
      " [0. 1. 0. 0. 0.]\n",
      " [0. 0. 1. 0. 0.]\n",
      " [0. 0. 0. 1. 0.]\n",
      " [0. 0. 0. 0. 1.]]\n"
     ]
    }
   ],
   "source": [
    "mat2 = np.zeros([5,3]) #you can use bracket notation\n",
    "print(mat2)\n",
    "mat3 = np.ones((3,5)) #or you can use parentheses notation\n",
    "print('')\n",
    "print(mat3)\n",
    "mat4 = np.eye(5) #identity matrix 5x5\n",
    "print('')\n",
    "print(mat4)"
   ]
  },
  {
   "cell_type": "code",
   "execution_count": 9,
   "metadata": {},
   "outputs": [
    {
     "name": "stdout",
     "output_type": "stream",
     "text": [
      "[1 2 3 4 5]\n",
      "[3 4 5 6 7]\n",
      "[ 4  6  8 10 12]\n",
      "[ 3  8 15 24 35]\n",
      "[1.         0.5        0.33333333 0.25       0.2       ]\n",
      "[1.73205081 2.         2.23606798 2.44948974 2.64575131]\n"
     ]
    }
   ],
   "source": [
    "# we can +-*/ arrays together if they're the right size\n",
    "vec5 = np.arange(1,6)\n",
    "vec6 = np.arange(3,8)\n",
    "print(vec5)\n",
    "print(vec6)\n",
    "print(vec5+vec6)\n",
    "print(vec5*vec6)\n",
    "print(1/vec5)\n",
    "print(np.sqrt(vec6))"
   ]
  },
  {
   "cell_type": "code",
   "execution_count": 12,
   "metadata": {},
   "outputs": [
    {
     "name": "stdout",
     "output_type": "stream",
     "text": [
      "[[1 2 1]\n",
      " [4 5 9]\n",
      " [1 8 9]]\n",
      "\n",
      "[1 2 3]\n",
      "\n",
      "[ 8 41 44]\n"
     ]
    }
   ],
   "source": [
    "# we can do matrix multiplication\n",
    "print(mat)\n",
    "print('')\n",
    "print(vec)\n",
    "print()\n",
    "product = np.matmul(mat,vec)\n",
    "print(product)"
   ]
  },
  {
   "cell_type": "code",
   "execution_count": 17,
   "metadata": {},
   "outputs": [
    {
     "data": {
      "text/plain": [
       "(3, 3)"
      ]
     },
     "execution_count": 17,
     "metadata": {},
     "output_type": "execute_result"
    }
   ],
   "source": [
    "mat.shape"
   ]
  },
  {
   "cell_type": "code",
   "execution_count": 18,
   "metadata": {
    "scrolled": true
   },
   "outputs": [
    {
     "data": {
      "text/plain": [
       "(3,)"
      ]
     },
     "execution_count": 18,
     "metadata": {},
     "output_type": "execute_result"
    }
   ],
   "source": [
    "vec.shape"
   ]
  },
  {
   "cell_type": "code",
   "execution_count": 19,
   "metadata": {},
   "outputs": [
    {
     "data": {
      "text/plain": [
       "(3,)"
      ]
     },
     "execution_count": 19,
     "metadata": {},
     "output_type": "execute_result"
    }
   ],
   "source": [
    "product.shape"
   ]
  },
  {
   "cell_type": "code",
   "execution_count": null,
   "metadata": {},
   "outputs": [],
   "source": [
    "#numpy arrays when assigned are column vectors\n",
    "#vec = np.array([1,2,3]) is a column vector\n",
    "# [[1]\n",
    "#  [2]\n",
    "#  [3]] so its dimensions are 3x1 (rows by columns)"
   ]
  },
  {
   "cell_type": "code",
   "execution_count": 20,
   "metadata": {},
   "outputs": [
    {
     "name": "stdout",
     "output_type": "stream",
     "text": [
      "[1. 2. 3.]\n",
      "\n",
      "[[ 0.5         0.18518519 -0.24074074]\n",
      " [ 0.5        -0.14814815  0.09259259]\n",
      " [-0.5         0.11111111  0.05555556]]\n"
     ]
    }
   ],
   "source": [
    "print(np.linalg.solve(mat,product)) #function used to solve for unknown vector [V]\n",
    "print('')                           #such that [mat] * [V] = [product]\n",
    "print(np.linalg.inv(mat))           #calculate the inverse of a given matrix"
   ]
  },
  {
   "cell_type": "code",
   "execution_count": 21,
   "metadata": {},
   "outputs": [
    {
     "name": "stdout",
     "output_type": "stream",
     "text": [
      "['blue' 'red' 'orange' 'purple' 'purple' 'orange' 'Red' '6']\n",
      "['6' 'Red' 'blue' 'orange' 'purple' 'red']\n"
     ]
    }
   ],
   "source": [
    "# we can find the unique values in an array\n",
    "# arrays have to be of the same data type so 6 below is typecaste as a string\n",
    "vec7 = np.array(['blue','red','orange','purple','purple','orange','Red',6])\n",
    "print(vec7)\n",
    "print(np.unique(vec7))"
   ]
  },
  {
   "cell_type": "code",
   "execution_count": 22,
   "metadata": {},
   "outputs": [
    {
     "name": "stdout",
     "output_type": "stream",
     "text": [
      "[[0.8668461  0.8826434  0.41033896 0.76600159 0.10674056]\n",
      " [0.3116943  0.62585138 0.2923542  0.57709176 0.87952293]\n",
      " [0.81456186 0.66252888 0.76555147 0.33097258 0.41830476]\n",
      " [0.08544006 0.15982734 0.54493796 0.89333774 0.19226563]\n",
      " [0.78696697 0.23967522 0.76030838 0.16091921 0.96616492]]\n",
      "\n",
      "[[-1.43884916  0.32917039 -0.00262172  0.20306565 -0.52836778]\n",
      " [ 0.28887855 -0.71325347  1.56360601 -0.0693306  -1.23216106]\n",
      " [-1.29677755 -2.01486957  0.25639082  0.60136977 -1.39326532]\n",
      " [ 1.14834652  0.53353451  0.12555914 -0.23599909 -0.81183993]\n",
      " [-1.74400577  0.61543584  0.64640967 -0.19427916  2.00729726]\n",
      " [ 0.19516901 -0.97951908 -0.5753062  -0.10749662  1.41912101]\n",
      " [-1.44790776  1.53658579  0.27924718 -1.18620582 -0.06037816]\n",
      " [-0.49761454  0.45197836 -0.07716579  1.40859073 -0.84557922]\n",
      " [ 0.43619861 -0.40457839 -1.00306104  2.0014103   0.67532736]\n",
      " [-1.00426202  1.50532703  0.84281985  0.18921886  0.29799255]]\n"
     ]
    }
   ],
   "source": [
    "# we can also use numpy to generate samples of a random variable\n",
    "rand_mat = np.random.rand(5,5) # independent uniform/normally distributed random variable\n",
    "print(rand_mat)\n",
    "rand_mat2 = np.random.randn(10,5) # standard normal (mean = 0, std = 1) random variable\n",
    "print('')\n",
    "print(rand_mat2)"
   ]
  },
  {
   "cell_type": "code",
   "execution_count": 23,
   "metadata": {},
   "outputs": [
    {
     "name": "stdout",
     "output_type": "stream",
     "text": [
      "0.5400339260132214\n",
      "0.9776984733339321\n"
     ]
    }
   ],
   "source": [
    "# we can also use numpy for statistical tools on arrays\n",
    "print(np.mean(rand_mat))\n",
    "print(np.std(rand_mat2))"
   ]
  },
  {
   "cell_type": "code",
   "execution_count": 24,
   "metadata": {},
   "outputs": [
    {
     "name": "stdout",
     "output_type": "stream",
     "text": [
      "0.08544005962928192\n",
      "2.0072972642709916\n"
     ]
    }
   ],
   "source": [
    "print(np.min(rand_mat))\n",
    "print(np.max(rand_mat2))"
   ]
  },
  {
   "cell_type": "code",
   "execution_count": null,
   "metadata": {},
   "outputs": [],
   "source": [
    "# break here for next video!"
   ]
  },
  {
   "cell_type": "markdown",
   "metadata": {},
   "source": [
    "# 2.1 Test Your Understanding"
   ]
  },
  {
   "cell_type": "markdown",
   "metadata": {},
   "source": [
    "Select the correct choice (True/False) for the below statement:\n",
    "\n",
    "We can create matrices by converting lists of lists.\n",
    "\n",
    "TRUE"
   ]
  },
  {
   "cell_type": "code",
   "execution_count": 25,
   "metadata": {},
   "outputs": [
    {
     "name": "stdout",
     "output_type": "stream",
     "text": [
      "[10 13 16 19]\n"
     ]
    }
   ],
   "source": [
    "# What will be the output of the following code:\n",
    "\n",
    "vec = np.arange(10, 20, 3)\n",
    "print(vec)"
   ]
  },
  {
   "cell_type": "code",
   "execution_count": 26,
   "metadata": {},
   "outputs": [
    {
     "name": "stdout",
     "output_type": "stream",
     "text": [
      "[10. 15. 20.]\n"
     ]
    }
   ],
   "source": [
    "# What will be the output of the following code?\n",
    "\n",
    "vec=np.linspace(10,20,3)\n",
    "print(vec)"
   ]
  },
  {
   "cell_type": "code",
   "execution_count": 27,
   "metadata": {},
   "outputs": [
    {
     "name": "stdout",
     "output_type": "stream",
     "text": [
      "[[ 0  1  2]\n",
      " [ 3  4  5]\n",
      " [ 6  7  8]\n",
      " [ 9 10 11]]\n"
     ]
    }
   ],
   "source": [
    "# Choose the correct answer by working on the following code:\n",
    "\n",
    "vec1 = np.arange(0, 12)\n",
    "vec2 = vec1.reshape(4, 3)\n",
    "print(vec2)"
   ]
  },
  {
   "cell_type": "markdown",
   "metadata": {},
   "source": [
    "Select the correct choice (True/False) for the below statement: \n",
    "\n",
    "An Identity matrix is a square matrix in which all the elements of the principal diagonal are ones and all other elements are zeros.\n",
    "\n",
    "TRUE"
   ]
  },
  {
   "cell_type": "markdown",
   "metadata": {},
   "source": [
    "Select the correct choice (True/False) for the below statement:\n",
    "\n",
    "\"We can have elements of different data types in a given array\"\n",
    "\n",
    "FALSE"
   ]
  },
  {
   "cell_type": "code",
   "execution_count": 35,
   "metadata": {},
   "outputs": [
    {
     "data": {
      "text/plain": [
       "-1.0"
      ]
     },
     "execution_count": 35,
     "metadata": {},
     "output_type": "execute_result"
    }
   ],
   "source": [
    "# Which of the following snippets of code are valid function(s) for NumPy?\n",
    "# A. numpy.cos(numpy.pi)\n",
    "# B. numpy.sqrt(1.44)\n",
    "# C. numpy.log(6)\n",
    "# D. numpy.exp(4)\n",
    "\n",
    "np.cos(np.pi)"
   ]
  },
  {
   "cell_type": "code",
   "execution_count": 32,
   "metadata": {},
   "outputs": [
    {
     "data": {
      "text/plain": [
       "1.2"
      ]
     },
     "execution_count": 32,
     "metadata": {},
     "output_type": "execute_result"
    }
   ],
   "source": [
    "np.sqrt(1.44)"
   ]
  },
  {
   "cell_type": "code",
   "execution_count": 33,
   "metadata": {
    "scrolled": true
   },
   "outputs": [
    {
     "data": {
      "text/plain": [
       "1.791759469228055"
      ]
     },
     "execution_count": 33,
     "metadata": {},
     "output_type": "execute_result"
    }
   ],
   "source": [
    "np.log(6)"
   ]
  },
  {
   "cell_type": "code",
   "execution_count": 34,
   "metadata": {},
   "outputs": [
    {
     "data": {
      "text/plain": [
       "54.598150033144236"
      ]
     },
     "execution_count": 34,
     "metadata": {},
     "output_type": "execute_result"
    }
   ],
   "source": [
    "np.exp(4)"
   ]
  },
  {
   "cell_type": "code",
   "execution_count": 37,
   "metadata": {},
   "outputs": [
    {
     "name": "stdout",
     "output_type": "stream",
     "text": [
      "[ 4  9 14 19]\n"
     ]
    }
   ],
   "source": [
    "# What is the output of the following code:\n",
    "\n",
    "import numpy as np\n",
    "arr = np.arange(4, 20, 5)\n",
    "print(arr)"
   ]
  },
  {
   "cell_type": "markdown",
   "metadata": {},
   "source": []
  },
  {
   "cell_type": "code",
   "execution_count": 38,
   "metadata": {},
   "outputs": [
    {
     "name": "stdout",
     "output_type": "stream",
     "text": [
      "[ 0.5552267  -0.62783824 -0.57746665  1.63821261 -0.78745115 -0.46399657\n",
      " -1.30785462 -0.3243391  -0.42992401 -0.15284381 -0.1245569  -0.25740279\n",
      " -0.09403078 -0.84353263 -0.93776036 -0.74766233  0.69553554 -0.5490471\n",
      "  0.55772154]\n",
      "-1.307854622022354\n"
     ]
    }
   ],
   "source": [
    "# how do we access entries in a numpy vector\n",
    "rand_vec = np.random.randn(19) #standard normal distribution\n",
    "print(rand_vec)\n",
    "print(rand_vec[6])"
   ]
  },
  {
   "cell_type": "code",
   "execution_count": 39,
   "metadata": {},
   "outputs": [
    {
     "name": "stdout",
     "output_type": "stream",
     "text": [
      "[-0.78745115 -0.46399657 -1.30785462 -0.3243391  -0.42992401]\n"
     ]
    }
   ],
   "source": [
    "# we can access multiple entries at once using :\n",
    "print(rand_vec[4:9])"
   ]
  },
  {
   "cell_type": "code",
   "execution_count": 40,
   "metadata": {},
   "outputs": [
    {
     "name": "stdout",
     "output_type": "stream",
     "text": [
      "[ 0  3  6  9 12]\n",
      "[ 0.5552267   1.63821261 -1.30785462 -0.15284381 -0.09403078]\n"
     ]
    }
   ],
   "source": [
    "# we can also access multiple non-consecutive entries using np.arange\n",
    "print(np.arange(0,15,3))\n",
    "print(rand_vec[np.arange(0,15,3)])"
   ]
  },
  {
   "cell_type": "code",
   "execution_count": 41,
   "metadata": {},
   "outputs": [
    {
     "name": "stdout",
     "output_type": "stream",
     "text": [
      "[[0.8668461  0.8826434  0.41033896 0.76600159 0.10674056]\n",
      " [0.3116943  0.62585138 0.2923542  0.57709176 0.87952293]\n",
      " [0.81456186 0.66252888 0.76555147 0.33097258 0.41830476]\n",
      " [0.08544006 0.15982734 0.54493796 0.89333774 0.19226563]\n",
      " [0.78696697 0.23967522 0.76030838 0.16091921 0.96616492]]\n",
      "0.29235420206261575\n",
      "0.29235420206261575\n"
     ]
    }
   ],
   "source": [
    "# what about matrices\n",
    "print(rand_mat)\n",
    "print(rand_mat[1][2])\n",
    "print(rand_mat[1,2])\n"
   ]
  },
  {
   "cell_type": "code",
   "execution_count": 42,
   "metadata": {},
   "outputs": [
    {
     "name": "stdout",
     "output_type": "stream",
     "text": [
      "[[0.8826434  0.41033896]\n",
      " [0.62585138 0.2923542 ]]\n"
     ]
    }
   ],
   "source": [
    "print(rand_mat[0:2,1:3]) #sub-matrix of matrix above"
   ]
  },
  {
   "cell_type": "code",
   "execution_count": 43,
   "metadata": {},
   "outputs": [
    {
     "name": "stdout",
     "output_type": "stream",
     "text": [
      "[ 0.5552267  -0.62783824 -0.57746665  1.63821261 -0.78745115 -0.46399657\n",
      " -1.30785462 -0.3243391  -0.42992401 -0.15284381 -0.1245569  -0.25740279\n",
      " -0.09403078 -0.84353263 -0.93776036 -0.74766233  0.69553554 -0.5490471\n",
      "  0.55772154]\n",
      "\n",
      "[ 0.5552267  -0.62783824 -0.57746665  4.          4.         -0.46399657\n",
      " -1.30785462 -0.3243391  -0.42992401 -0.15284381 -0.1245569  -0.25740279\n",
      " -0.09403078 -0.84353263 -0.93776036 -0.74766233  0.69553554 -0.5490471\n",
      "  0.55772154]\n",
      "\n",
      "[ 0.5552267  -0.62783824 -0.57746665  1.          2.         -0.46399657\n",
      " -1.30785462 -0.3243391  -0.42992401 -0.15284381 -0.1245569  -0.25740279\n",
      " -0.09403078 -0.84353263 -0.93776036 -0.74766233  0.69553554 -0.5490471\n",
      "  0.55772154]\n"
     ]
    }
   ],
   "source": [
    "# let's change some values in an array!\n",
    "print(rand_vec)\n",
    "rand_vec[3:5] = 4\n",
    "print('')\n",
    "print(rand_vec)\n",
    "rand_vec[3:5] = [1,2]\n",
    "print('')\n",
    "print(rand_vec)"
   ]
  },
  {
   "cell_type": "code",
   "execution_count": 44,
   "metadata": {},
   "outputs": [
    {
     "name": "stdout",
     "output_type": "stream",
     "text": [
      "[[0.8668461  0.8826434  0.41033896 0.76600159 0.10674056]\n",
      " [0.3116943  0.62585138 0.2923542  0.57709176 0.87952293]\n",
      " [0.81456186 0.66252888 0.76555147 0.33097258 0.41830476]\n",
      " [0.08544006 0.15982734 0.54493796 0.89333774 0.19226563]\n",
      " [0.78696697 0.23967522 0.76030838 0.16091921 0.96616492]]\n",
      "\n",
      "[[0.8668461  0.8826434  0.41033896 0.76600159 0.10674056]\n",
      " [0.3116943  0.62585138 0.2923542  0.         0.        ]\n",
      " [0.81456186 0.66252888 0.76555147 0.         0.        ]\n",
      " [0.08544006 0.15982734 0.54493796 0.89333774 0.19226563]\n",
      " [0.78696697 0.23967522 0.76030838 0.16091921 0.96616492]]\n"
     ]
    }
   ],
   "source": [
    "print(rand_mat)\n",
    "rand_mat[1:3,3:5] = 0\n",
    "print('')\n",
    "print(rand_mat)"
   ]
  },
  {
   "cell_type": "code",
   "execution_count": 45,
   "metadata": {},
   "outputs": [
    {
     "name": "stdout",
     "output_type": "stream",
     "text": [
      "[[0.8668461  0.8826434  0.41033896]\n",
      " [0.3116943  0.62585138 0.2923542 ]]\n",
      "[[3. 3. 3.]\n",
      " [3. 3. 3.]]\n"
     ]
    }
   ],
   "source": [
    "sub_mat = rand_mat[0:2,0:3]\n",
    "print(sub_mat)\n",
    "sub_mat[:] = 3\n",
    "print(sub_mat)\n"
   ]
  },
  {
   "cell_type": "code",
   "execution_count": 46,
   "metadata": {},
   "outputs": [
    {
     "name": "stdout",
     "output_type": "stream",
     "text": [
      "[[3.         3.         3.         0.76600159 0.10674056]\n",
      " [3.         3.         3.         0.         0.        ]\n",
      " [0.81456186 0.66252888 0.76555147 0.         0.        ]\n",
      " [0.08544006 0.15982734 0.54493796 0.89333774 0.19226563]\n",
      " [0.78696697 0.23967522 0.76030838 0.16091921 0.96616492]]\n"
     ]
    }
   ],
   "source": [
    "print(rand_mat)"
   ]
  },
  {
   "cell_type": "code",
   "execution_count": 47,
   "metadata": {},
   "outputs": [
    {
     "name": "stdout",
     "output_type": "stream",
     "text": [
      "[[99. 99. 99.]\n",
      " [99. 99. 99.]]\n",
      "[[3.         3.         3.         0.76600159 0.10674056]\n",
      " [3.         3.         3.         0.         0.        ]\n",
      " [0.81456186 0.66252888 0.76555147 0.         0.        ]\n",
      " [0.08544006 0.15982734 0.54493796 0.89333774 0.19226563]\n",
      " [0.78696697 0.23967522 0.76030838 0.16091921 0.96616492]]\n"
     ]
    }
   ],
   "source": [
    "sub_mat2 = rand_mat[0:2,0:3].copy()\n",
    "sub_mat2[:] = 99\n",
    "print(sub_mat2)\n",
    "print(rand_mat)\n"
   ]
  },
  {
   "cell_type": "code",
   "execution_count": null,
   "metadata": {},
   "outputs": [],
   "source": [
    "# break here for next video"
   ]
  },
  {
   "cell_type": "markdown",
   "metadata": {},
   "source": [
    "# 2.2 Test Your Understanding"
   ]
  },
  {
   "cell_type": "code",
   "execution_count": 48,
   "metadata": {},
   "outputs": [
    {
     "name": "stdout",
     "output_type": "stream",
     "text": [
      "[10 13 16 19]\n"
     ]
    }
   ],
   "source": [
    "# What will be the output of the following code:\n",
    "\n",
    "vec = np.arange(10,20)\n",
    "vec2 = vec[np.arange(0,10,3)]\n",
    "print(vec2)"
   ]
  },
  {
   "cell_type": "markdown",
   "metadata": {},
   "source": [
    "Select the correct choice (True/False) for the below statement:\n",
    "\n",
    "Can we replace/change any value in an array?\n",
    "\n",
    "TRUE"
   ]
  },
  {
   "cell_type": "code",
   "execution_count": 50,
   "metadata": {},
   "outputs": [],
   "source": [
    "# In the code below, if we change array2, then array1 will also be affected by the change.\n",
    "\n",
    "array1 = np.array([[1,2,3],[4,5,6],[7,8,9]])\n",
    "array2 = array1\n",
    "\n",
    "# TRUE"
   ]
  },
  {
   "cell_type": "code",
   "execution_count": 51,
   "metadata": {},
   "outputs": [
    {
     "name": "stdout",
     "output_type": "stream",
     "text": [
      "5\n"
     ]
    }
   ],
   "source": [
    "# What will be the output of the following code?\n",
    "\n",
    "matrix = np.array([[1,2,3],[4,5,6],[7,8,9]])\n",
    "print(matrix[1][1])"
   ]
  },
  {
   "cell_type": "code",
   "execution_count": null,
   "metadata": {},
   "outputs": [],
   "source": []
  },
  {
   "cell_type": "code",
   "execution_count": 52,
   "metadata": {},
   "outputs": [
    {
     "name": "stdout",
     "output_type": "stream",
     "text": [
      "[-0.45946054 -0.4793546   0.73385509 -0.81534104  0.4198816  -1.61199058\n",
      "  0.32303833 -0.66553559 -0.08901164  1.63008527  1.30045838  1.33758623\n",
      " -0.53380077 -1.82586007  0.0241793 ]\n",
      "[False False  True False  True False  True False False  True  True  True\n",
      " False False  True]\n",
      "[0.73385509 0.4198816  0.32303833 1.63008527 1.30045838 1.33758623\n",
      " 0.0241793 ]\n"
     ]
    }
   ],
   "source": [
    "# we can also access entries with logicals\n",
    "rand_vec = np.random.randn(15)\n",
    "\n",
    "print(rand_vec)\n",
    "print(rand_vec>0)\n",
    "print(rand_vec[rand_vec>0])"
   ]
  },
  {
   "cell_type": "code",
   "execution_count": 53,
   "metadata": {},
   "outputs": [
    {
     "name": "stdout",
     "output_type": "stream",
     "text": [
      "[[-1.43884916  0.32917039 -0.00262172  0.20306565 -0.52836778]\n",
      " [ 0.28887855 -0.71325347  1.56360601 -0.0693306  -1.23216106]\n",
      " [-1.29677755 -2.01486957  0.25639082  0.60136977 -1.39326532]\n",
      " [ 1.14834652  0.53353451  0.12555914 -0.23599909 -0.81183993]\n",
      " [-1.74400577  0.61543584  0.64640967 -0.19427916  2.00729726]\n",
      " [ 0.19516901 -0.97951908 -0.5753062  -0.10749662  1.41912101]\n",
      " [-1.44790776  1.53658579  0.27924718 -1.18620582 -0.06037816]\n",
      " [-0.49761454  0.45197836 -0.07716579  1.40859073 -0.84557922]\n",
      " [ 0.43619861 -0.40457839 -1.00306104  2.0014103   0.67532736]\n",
      " [-1.00426202  1.50532703  0.84281985  0.18921886  0.29799255]]\n",
      "[0.32917039 0.20306565 0.28887855 1.56360601 0.25639082 0.60136977\n",
      " 1.14834652 0.53353451 0.12555914 0.61543584 0.64640967 2.00729726\n",
      " 0.19516901 1.41912101 1.53658579 0.27924718 0.45197836 1.40859073\n",
      " 0.43619861 2.0014103  0.67532736 1.50532703 0.84281985 0.18921886\n",
      " 0.29799255]\n"
     ]
    }
   ],
   "source": [
    "print(rand_mat2)\n",
    "print(rand_mat2[rand_mat2>0])"
   ]
  },
  {
   "cell_type": "code",
   "execution_count": 54,
   "metadata": {},
   "outputs": [
    {
     "name": "stdout",
     "output_type": "stream",
     "text": [
      "[-0.45946054 -0.4793546   0.73385509 -0.81534104  0.4198816  -1.61199058\n",
      "  0.32303833 -0.66553559 -0.08901164  1.63008527  1.30045838  1.33758623\n",
      " -0.53380077 -1.82586007  0.0241793 ]\n",
      "\n",
      "[-0.45946054 -0.4793546  -5.         -0.81534104  0.4198816  -1.61199058\n",
      "  0.32303833 -0.66553559 -0.08901164 -5.         -5.         -5.\n",
      " -0.53380077 -1.82586007  0.0241793 ]\n"
     ]
    }
   ],
   "source": [
    "\n",
    "print(rand_vec)\n",
    "print('')\n",
    "rand_vec[rand_vec>0.5] = -5\n",
    "print(rand_vec)"
   ]
  },
  {
   "cell_type": "code",
   "execution_count": 55,
   "metadata": {},
   "outputs": [],
   "source": [
    "# let's save some arrays on the disk for use later!\n",
    "np.save('saved_file_name',rand_mat2)\n"
   ]
  },
  {
   "cell_type": "code",
   "execution_count": 56,
   "metadata": {},
   "outputs": [],
   "source": [
    "np.savez('zipped_file_name',rand_mat=rand_mat,rand_mat2=rand_mat2)"
   ]
  },
  {
   "cell_type": "code",
   "execution_count": 57,
   "metadata": {},
   "outputs": [
    {
     "name": "stdout",
     "output_type": "stream",
     "text": [
      "[[-1.43884916  0.32917039 -0.00262172  0.20306565 -0.52836778]\n",
      " [ 0.28887855 -0.71325347  1.56360601 -0.0693306  -1.23216106]\n",
      " [-1.29677755 -2.01486957  0.25639082  0.60136977 -1.39326532]\n",
      " [ 1.14834652  0.53353451  0.12555914 -0.23599909 -0.81183993]\n",
      " [-1.74400577  0.61543584  0.64640967 -0.19427916  2.00729726]\n",
      " [ 0.19516901 -0.97951908 -0.5753062  -0.10749662  1.41912101]\n",
      " [-1.44790776  1.53658579  0.27924718 -1.18620582 -0.06037816]\n",
      " [-0.49761454  0.45197836 -0.07716579  1.40859073 -0.84557922]\n",
      " [ 0.43619861 -0.40457839 -1.00306104  2.0014103   0.67532736]\n",
      " [-1.00426202  1.50532703  0.84281985  0.18921886  0.29799255]]\n",
      "\n",
      "<numpy.lib.npyio.NpzFile object at 0x7ff64b866fd0>\n"
     ]
    }
   ],
   "source": [
    "# now let's load it\n",
    "loaded_vec = np.load('saved_file_name.npy')\n",
    "loaded_zip = np.load('zipped_file_name.npz')\n",
    "\n",
    "print(loaded_vec)\n",
    "print('')\n",
    "print(loaded_zip)"
   ]
  },
  {
   "cell_type": "code",
   "execution_count": 58,
   "metadata": {},
   "outputs": [
    {
     "name": "stdout",
     "output_type": "stream",
     "text": [
      "[[3.         3.         3.         0.76600159 0.10674056]\n",
      " [3.         3.         3.         0.         0.        ]\n",
      " [0.81456186 0.66252888 0.76555147 0.         0.        ]\n",
      " [0.08544006 0.15982734 0.54493796 0.89333774 0.19226563]\n",
      " [0.78696697 0.23967522 0.76030838 0.16091921 0.96616492]]\n",
      "\n",
      "[[-1.43884916  0.32917039 -0.00262172  0.20306565 -0.52836778]\n",
      " [ 0.28887855 -0.71325347  1.56360601 -0.0693306  -1.23216106]\n",
      " [-1.29677755 -2.01486957  0.25639082  0.60136977 -1.39326532]\n",
      " [ 1.14834652  0.53353451  0.12555914 -0.23599909 -0.81183993]\n",
      " [-1.74400577  0.61543584  0.64640967 -0.19427916  2.00729726]\n",
      " [ 0.19516901 -0.97951908 -0.5753062  -0.10749662  1.41912101]\n",
      " [-1.44790776  1.53658579  0.27924718 -1.18620582 -0.06037816]\n",
      " [-0.49761454  0.45197836 -0.07716579  1.40859073 -0.84557922]\n",
      " [ 0.43619861 -0.40457839 -1.00306104  2.0014103   0.67532736]\n",
      " [-1.00426202  1.50532703  0.84281985  0.18921886  0.29799255]]\n",
      "[[3.         3.         3.         0.76600159 0.10674056]\n",
      " [3.         3.         3.         0.         0.        ]\n",
      " [0.81456186 0.66252888 0.76555147 0.         0.        ]\n",
      " [0.08544006 0.15982734 0.54493796 0.89333774 0.19226563]\n",
      " [0.78696697 0.23967522 0.76030838 0.16091921 0.96616492]]\n"
     ]
    }
   ],
   "source": [
    "print(loaded_zip['rand_mat'])\n",
    "print('')\n",
    "print(loaded_zip['rand_mat2'])\n",
    "\n",
    "new_array  = loaded_zip['rand_mat']\n",
    "print(new_array)"
   ]
  },
  {
   "cell_type": "code",
   "execution_count": 60,
   "metadata": {},
   "outputs": [
    {
     "name": "stdout",
     "output_type": "stream",
     "text": [
      "[[3.         3.         3.         0.76600159 0.10674056]\n",
      " [3.         3.         3.         0.         0.        ]\n",
      " [0.81456186 0.66252888 0.76555147 0.         0.        ]\n",
      " [0.08544006 0.15982734 0.54493796 0.89333774 0.19226563]\n",
      " [0.78696697 0.23967522 0.76030838 0.16091921 0.96616492]]\n",
      "\n",
      "[[3.         3.         3.         0.76600159 0.10674056]\n",
      " [3.         3.         3.         0.         0.        ]\n",
      " [0.81456186 0.66252888 0.76555147 0.         0.        ]\n",
      " [0.08544006 0.15982734 0.54493796 0.89333774 0.19226563]\n",
      " [0.78696697 0.23967522 0.76030838 0.16091921 0.96616492]]\n"
     ]
    },
    {
     "data": {
      "text/plain": [
       "numpy.ndarray"
      ]
     },
     "execution_count": 60,
     "metadata": {},
     "output_type": "execute_result"
    }
   ],
   "source": [
    "# we can also save/load as text files...but only single variables\n",
    "np.savetxt('text_file_name.txt',rand_mat,delimiter=',')\n",
    "rand_mat_txt = np.loadtxt('text_file_name.txt',delimiter=',')\n",
    "print(rand_mat)\n",
    "print('')\n",
    "print(rand_mat_txt)\n",
    "type(rand_mat_txt)"
   ]
  },
  {
   "cell_type": "markdown",
   "metadata": {},
   "source": [
    "# 2.3 Test Your Understanding"
   ]
  },
  {
   "cell_type": "code",
   "execution_count": 61,
   "metadata": {},
   "outputs": [
    {
     "name": "stdout",
     "output_type": "stream",
     "text": [
      "[ 7  8  9 10]\n"
     ]
    }
   ],
   "source": [
    "# What will be the output of the following code:\n",
    "\n",
    "vec = np.array([4,7,8,9,10,6,1])\n",
    "print(vec[vec>6])"
   ]
  },
  {
   "cell_type": "code",
   "execution_count": 62,
   "metadata": {},
   "outputs": [
    {
     "name": "stdout",
     "output_type": "stream",
     "text": [
      "[4 2 2 2 2 6 1]\n"
     ]
    }
   ],
   "source": [
    "# What will be the output of the following code:\n",
    "\n",
    "vec1 = np.array([4, 7, 8, 9, 10, 6, 1])\n",
    "vec1[vec1>6] = 2\n",
    "print(vec1)"
   ]
  },
  {
   "cell_type": "markdown",
   "metadata": {},
   "source": [
    "Select the correct choice (True/False) for the below statement:\n",
    "\n",
    "NumPy array can be saved on the disk for later use.\n",
    "\n",
    "TRUE"
   ]
  },
  {
   "cell_type": "markdown",
   "metadata": {},
   "source": [
    "The following code can be used to load a numpy array (matrix.npy is a data file):\n",
    "\n",
    "import numpy as np\n",
    "loaded_array = np.load('matrix.npy')\n",
    "\n",
    "TRUE"
   ]
  },
  {
   "cell_type": "code",
   "execution_count": null,
   "metadata": {},
   "outputs": [],
   "source": []
  }
 ],
 "metadata": {
  "kernelspec": {
   "display_name": "Python 3",
   "language": "python",
   "name": "python3"
  },
  "language_info": {
   "codemirror_mode": {
    "name": "ipython",
    "version": 3
   },
   "file_extension": ".py",
   "mimetype": "text/x-python",
   "name": "python",
   "nbconvert_exporter": "python",
   "pygments_lexer": "ipython3",
   "version": "3.8.8"
  }
 },
 "nbformat": 4,
 "nbformat_minor": 2
}

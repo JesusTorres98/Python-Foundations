{
 "cells": [
  {
   "cell_type": "code",
   "execution_count": 2,
   "id": "d3176125",
   "metadata": {},
   "outputs": [
    {
     "data": {
      "text/plain": [
       "array([0, 1, 2, 3, 4, 5, 6, 7, 8, 9])"
      ]
     },
     "execution_count": 2,
     "metadata": {},
     "output_type": "execute_result"
    }
   ],
   "source": [
    "# For the given array,\n",
    "# demo_array = np.arange(0,10) \n",
    "# What will be the output if you run the following lines of code, one after another.\n",
    "\n",
    "import numpy as np\n",
    "demo_array = np.arange(0,10)\n",
    "demo_array"
   ]
  },
  {
   "cell_type": "code",
   "execution_count": 3,
   "id": "2c49776b",
   "metadata": {},
   "outputs": [
    {
     "data": {
      "text/plain": [
       "array([ True,  True,  True, False, False, False, False, False, False,\n",
       "       False])"
      ]
     },
     "execution_count": 3,
     "metadata": {},
     "output_type": "execute_result"
    }
   ],
   "source": [
    "demo_array <3"
   ]
  },
  {
   "cell_type": "code",
   "execution_count": 4,
   "id": "f1f047d4",
   "metadata": {},
   "outputs": [
    {
     "data": {
      "text/plain": [
       "array([0, 1, 2, 3, 4, 5])"
      ]
     },
     "execution_count": 4,
     "metadata": {},
     "output_type": "execute_result"
    }
   ],
   "source": [
    "demo_array[demo_array <6]"
   ]
  },
  {
   "cell_type": "code",
   "execution_count": 5,
   "id": "79484281",
   "metadata": {},
   "outputs": [
    {
     "data": {
      "text/plain": [
       "9"
      ]
     },
     "execution_count": 5,
     "metadata": {},
     "output_type": "execute_result"
    }
   ],
   "source": [
    "np.max(demo_array)"
   ]
  },
  {
   "cell_type": "code",
   "execution_count": 6,
   "id": "28fd8096",
   "metadata": {},
   "outputs": [
    {
     "data": {
      "text/plain": [
       "array([[35, 74],\n",
       "       [37, 37],\n",
       "       [39, 93]])"
      ]
     },
     "execution_count": 6,
     "metadata": {},
     "output_type": "execute_result"
    }
   ],
   "source": [
    "# For the given matrix,\n",
    "demo_matrix = np.array(([13,35,74,48], [23,37,37,38],[73,39,93,39]))\n",
    "\n",
    "# What will be the output of the following line?\n",
    "demo_matrix[:, (1,2)]"
   ]
  },
  {
   "cell_type": "code",
   "execution_count": 7,
   "id": "b4f8dab5",
   "metadata": {},
   "outputs": [
    {
     "data": {
      "text/plain": [
       "[12]"
      ]
     },
     "execution_count": 7,
     "metadata": {},
     "output_type": "execute_result"
    }
   ],
   "source": [
    "# For the below matrix,\n",
    "test_array = [10, 11.5, 12, 13.5, 14,15]   \n",
    "\n",
    "# What will be the output of this below code?\n",
    "test_array[2:3]"
   ]
  },
  {
   "cell_type": "code",
   "execution_count": 8,
   "id": "7004e9f9",
   "metadata": {},
   "outputs": [
    {
     "data": {
      "text/plain": [
       "array([[12, 34, 55],\n",
       "       [66, 45, 77],\n",
       "       [45, 77, 88]])"
      ]
     },
     "execution_count": 8,
     "metadata": {},
     "output_type": "execute_result"
    }
   ],
   "source": [
    "# What is the output of the following lines of code?\n",
    "list_l =[[12,34,55,],[66,45,77],[45,77,88]]\n",
    "np.array(list_l)"
   ]
  },
  {
   "cell_type": "code",
   "execution_count": 9,
   "id": "caa841f3",
   "metadata": {},
   "outputs": [
    {
     "data": {
      "text/plain": [
       "a    10\n",
       "b    15\n",
       "c    20\n",
       "d    25\n",
       "dtype: int64"
      ]
     },
     "execution_count": 9,
     "metadata": {},
     "output_type": "execute_result"
    }
   ],
   "source": [
    "# What is the output of the following code?\n",
    "\n",
    "import pandas as pd\n",
    "score = [10, 15, 20, 25]\n",
    "pd.Series(data=score, index = ['a','b','c','d'])"
   ]
  },
  {
   "cell_type": "markdown",
   "id": "2010dfbf",
   "metadata": {},
   "source": [
    "Which of the following is true?\n",
    "\n",
    "Vectors are 1 dimensional and matrices are 2 dimensional"
   ]
  },
  {
   "cell_type": "markdown",
   "id": "92868859",
   "metadata": {},
   "source": [
    "newcolumn = [\"A\", \"B\", \"C\", \"D\", \"E\"]\n",
    "dataframe['Alphabets'] = newcolumn"
   ]
  },
  {
   "cell_type": "code",
   "execution_count": 10,
   "id": "64cd3974",
   "metadata": {},
   "outputs": [
    {
     "data": {
      "text/plain": [
       "array([ 0,  6, 12, 18])"
      ]
     },
     "execution_count": 10,
     "metadata": {},
     "output_type": "execute_result"
    }
   ],
   "source": [
    "# What is the output of the following code?\n",
    "\n",
    "np.arange(0,22,6)"
   ]
  },
  {
   "cell_type": "code",
   "execution_count": 11,
   "id": "f648e636",
   "metadata": {},
   "outputs": [
    {
     "data": {
      "text/plain": [
       "array([101, 101, 101, 101, 101, 101, 101])"
      ]
     },
     "execution_count": 11,
     "metadata": {},
     "output_type": "execute_result"
    }
   ],
   "source": [
    "# Which of the following will be the output of the below code?\n",
    "\n",
    "demo_array = np.arange(10,21)\n",
    "\n",
    "subset_demo_array = demo_array[0:7]\n",
    "\n",
    "subset_demo_array[:]= 101\n",
    "\n",
    "subset_demo_array"
   ]
  },
  {
   "cell_type": "code",
   "execution_count": 12,
   "id": "f892a302",
   "metadata": {},
   "outputs": [
    {
     "data": {
      "text/plain": [
       "5"
      ]
     },
     "execution_count": 12,
     "metadata": {},
     "output_type": "execute_result"
    }
   ],
   "source": [
    "# Guess the output of the following code\n",
    "\n",
    "flowers = pd.Series([2, 3, 5, 4], index=['lily', 'rose', 'daisy', 'lotus'])\n",
    "\n",
    "flowers['daisy']"
   ]
  },
  {
   "cell_type": "markdown",
   "id": "b38e3e34",
   "metadata": {},
   "source": [
    "Which of the following is true for the following code? where, 'marks' is an attribute of the dataframe.\n",
    "* dataframe.drop(‘marks’, axis = 1)\n",
    "\n",
    "* axis 1 is for searching columns"
   ]
  },
  {
   "cell_type": "code",
   "execution_count": 13,
   "id": "79e2b4d8",
   "metadata": {},
   "outputs": [],
   "source": [
    "# Which of the following will produce below output for the two series created s1 and s2?\n",
    "\n",
    "s1 = pd.Series(['a', 'b'])\n",
    "s2 = pd.Series(['c', 'd'])"
   ]
  },
  {
   "cell_type": "code",
   "execution_count": 14,
   "id": "26d06cb4",
   "metadata": {},
   "outputs": [
    {
     "data": {
      "text/plain": [
       "0    a\n",
       "1    b\n",
       "0    c\n",
       "1    d\n",
       "dtype: object"
      ]
     },
     "execution_count": 14,
     "metadata": {},
     "output_type": "execute_result"
    }
   ],
   "source": [
    "pd.concat([s1,s2])"
   ]
  },
  {
   "cell_type": "code",
   "execution_count": 15,
   "id": "fc776af2",
   "metadata": {},
   "outputs": [],
   "source": [
    "# How do we create a dataframe from external sources?\n",
    "\n",
    "# dataframe = pd.read_csv(‘filename’)"
   ]
  },
  {
   "cell_type": "code",
   "execution_count": 16,
   "id": "443eaff2",
   "metadata": {},
   "outputs": [],
   "source": [
    "# What is the right way to create list in Python?\n",
    "\n",
    "# football = [24, 235, 34, 456, 65, 67]"
   ]
  },
  {
   "cell_type": "code",
   "execution_count": 17,
   "id": "64965f5b",
   "metadata": {},
   "outputs": [],
   "source": [
    "# Which of the following is correct in order to convert the list called 'football' into array? \n",
    "\n",
    "# np.array(football)"
   ]
  },
  {
   "cell_type": "code",
   "execution_count": null,
   "id": "acceee98",
   "metadata": {},
   "outputs": [],
   "source": []
  }
 ],
 "metadata": {
  "kernelspec": {
   "display_name": "Python 3",
   "language": "python",
   "name": "python3"
  },
  "language_info": {
   "codemirror_mode": {
    "name": "ipython",
    "version": 3
   },
   "file_extension": ".py",
   "mimetype": "text/x-python",
   "name": "python",
   "nbconvert_exporter": "python",
   "pygments_lexer": "ipython3",
   "version": "3.8.8"
  }
 },
 "nbformat": 4,
 "nbformat_minor": 5
}

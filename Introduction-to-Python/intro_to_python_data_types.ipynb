{
 "cells": [
  {
   "cell_type": "code",
   "execution_count": 4,
   "id": "89bd6bbb",
   "metadata": {},
   "outputs": [
    {
     "name": "stdout",
     "output_type": "stream",
     "text": [
      "Ola Mundo!\n"
     ]
    }
   ],
   "source": [
    "print('Ola Mundo!')"
   ]
  },
  {
   "cell_type": "code",
   "execution_count": null,
   "id": "1d87423f",
   "metadata": {},
   "outputs": [],
   "source": [
    "print"
   ]
  },
  {
   "cell_type": "markdown",
   "id": "2c2f1e36",
   "metadata": {},
   "source": [
    "# Introduction to Python \n",
    "\n",
    "This is where we can add text.\n",
    "\n",
    "We must designate this cell as a 'Markdown' cell.\n",
    "\n",
    "With a single hashtag we get a big section header.\n",
    "\n",
    "We can also add subsections."
   ]
  },
  {
   "cell_type": "markdown",
   "id": "391e5161",
   "metadata": {},
   "source": [
    "## Subsection\n",
    "\n",
    "It is convenient to communicate how your code works and what it is doing with markdown cells!\n",
    "\n",
    "You can also use LaTeX commands in-line with single dollar signs: $\\int_0^\\infty f(x) dx$\n",
    "\n",
    "You can add LaTeX equations centered on their own lines with double dollar signs: $$\\sum_{i=1}^\\infty \\frac{1} {2^i}$$"
   ]
  },
  {
   "cell_type": "markdown",
   "id": "e6a9721a",
   "metadata": {},
   "source": [
    "# Shortcuts\n",
    "\n",
    "We can look at existing keyboard shortcuts through the help menu, and we can make our own there.\n",
    "\n",
    "The most important shortcuts are:\n",
    "\n",
    "1. Shift + Enter (Runs the cell and goes to the next cell)\n",
    "2. Ctrl + Enter (Runs the cell but remains in the same cell)\n",
    "3. Alt + Enter (Runs the cell and creates a new cell)\n",
    "4. Tab (When writing out a function name, you can press tab to see a list of potential function names)\n",
    "5. Shift + Tab (When the cursor is lined on a function Shift+Tab to see the description of a function)"
   ]
  },
  {
   "cell_type": "code",
   "execution_count": 7,
   "id": "762a5f1b",
   "metadata": {},
   "outputs": [
    {
     "name": "stdout",
     "output_type": "stream",
     "text": [
      "five times a is 15 and 3 multiplied by a is 9\n",
      "five times a is 10 and 3 multiplied by a is 6\n"
     ]
    }
   ],
   "source": [
    "# we can add comments to code cells using a hashtag\n",
    "# on windows you can comments a line with Ctrl + /\n",
    "# on a mac you can comment a line with Cmd + /\n",
    "\n",
    "# assign a variable to a literal value \n",
    "a = 3 \n",
    "print('five times a is',5*a,'and 3 multiplied by a is',3*a)\n",
    "\n",
    "a = 2\n",
    "print('five times a is',5*a,'and 3 multiplied by a is',3*a)"
   ]
  },
  {
   "cell_type": "code",
   "execution_count": 8,
   "id": "f2461ff0",
   "metadata": {},
   "outputs": [
    {
     "name": "stdout",
     "output_type": "stream",
     "text": [
      "a is of type <class 'int'>\n",
      "b is of type <class 'float'>\n",
      "c is of type <class 'float'> and its value is 0.9523809523809523\n",
      "d is of type <class 'float'> and its value is 0.9523809523809523\n"
     ]
    }
   ],
   "source": [
    "# we can also inspect the type of variable\n",
    "print('a is of type',type(a))\n",
    "b = 2.1\n",
    "print('b is of type',type(b))\n",
    "c = float(a)/b\n",
    "print('c is of type',type(c),'and its value is',c)\n",
    "d = a/b\n",
    "print('d is of type',type(c),'and its value is',d)"
   ]
  },
  {
   "cell_type": "code",
   "execution_count": 9,
   "id": "6e0deddd",
   "metadata": {},
   "outputs": [
    {
     "data": {
      "text/plain": [
       "str"
      ]
     },
     "execution_count": 9,
     "metadata": {},
     "output_type": "execute_result"
    }
   ],
   "source": [
    "string = \"Hi\"\n",
    "type(string)"
   ]
  },
  {
   "cell_type": "markdown",
   "id": "82736bc3",
   "metadata": {},
   "source": [
    "# Collections of variables\n",
    "\n",
    "There are 4 main types of collections of variables in Python:\n",
    "\n",
    "    1. list\n",
    "    2. tuple\n",
    "    3. set \n",
    "    4. dictionary"
   ]
  },
  {
   "cell_type": "code",
   "execution_count": 10,
   "id": "c7adfc5b",
   "metadata": {},
   "outputs": [
    {
     "name": "stdout",
     "output_type": "stream",
     "text": [
      "['Dan', 2, 3, 4, 'python', 2.7]\n",
      "Dan\n",
      "4\n",
      "2.7\n",
      "python\n",
      "6\n"
     ]
    }
   ],
   "source": [
    "# a list is an ordered and indexed collection of values that are changeable and allows duplicates\n",
    "\n",
    "simple_list = ['Dan',2,3,4,'python',2.7]\n",
    "print(simple_list)\n",
    "print(simple_list[0])\n",
    "print(simple_list[3])\n",
    "print(simple_list[-1])\n",
    "print(simple_list[-2])\n",
    "print(len(simple_list))"
   ]
  },
  {
   "cell_type": "code",
   "execution_count": 11,
   "id": "96a2065c",
   "metadata": {},
   "outputs": [
    {
     "name": "stdout",
     "output_type": "stream",
     "text": [
      "52\n",
      "['Dan', 2, 3, 52, 'python', 2.7, 'to the back']\n",
      "7\n",
      "['Dan', 2, 3, 52, 2.7, 'to the back']\n"
     ]
    }
   ],
   "source": [
    "# it is easy to change entries of a list\n",
    "\n",
    "simple_list[3] = 52\n",
    "print(simple_list[3]) # index is based on 0!!!\n",
    "simple_list.append('to the back')\n",
    "print(simple_list)\n",
    "print(len(simple_list))\n",
    "simple_list.pop(4)\n",
    "print(simple_list)"
   ]
  },
  {
   "cell_type": "code",
   "execution_count": 12,
   "id": "5f62d8e5",
   "metadata": {},
   "outputs": [
    {
     "name": "stdout",
     "output_type": "stream",
     "text": [
      "[5, 5, 5, 5]\n"
     ]
    }
   ],
   "source": [
    "# it is easy to initialize a list of a particular size with all entries the same \n",
    "\n",
    "repeated_list = [5]*4\n",
    "print(repeated_list)"
   ]
  },
  {
   "cell_type": "code",
   "execution_count": 13,
   "id": "3c2d56b8",
   "metadata": {},
   "outputs": [
    {
     "name": "stdout",
     "output_type": "stream",
     "text": [
      "['Dan', [1, 2, 3], 3, 52, 2.7, 'to the back']\n",
      "[1, 2, 3]\n",
      "2\n"
     ]
    }
   ],
   "source": [
    "# we can even use lists as entries of a list\n",
    "\n",
    "simple_list[1] = [1,2,3]\n",
    "print(simple_list)\n",
    "print(simple_list[1])\n",
    "print(simple_list[1][1])"
   ]
  },
  {
   "cell_type": "code",
   "execution_count": 14,
   "id": "0be234c0",
   "metadata": {},
   "outputs": [
    {
     "name": "stdout",
     "output_type": "stream",
     "text": [
      "['Dan', [1, 2, 3], 3, 52, 2.7, 'to the back']\n",
      "['Dan', [1, 2, 3], 3, 52, 2.7, 'to the back']\n",
      "['Dan', 0, 3, 52, 2.7, 'to the back']\n",
      "['Dan', 0, 3, 52, 2.7, 'to the back']\n"
     ]
    }
   ],
   "source": [
    "# copying lists is a little tricky\n",
    "\n",
    "list2 = simple_list\n",
    "print(list2)\n",
    "print(simple_list)\n",
    "list2[1] = 0 \n",
    "print(list2)\n",
    "print(simple_list)\n",
    "\n",
    "# If a list is equal to another list in changing one the other is changed as well for memory-purposes"
   ]
  },
  {
   "cell_type": "code",
   "execution_count": 15,
   "id": "5952869f",
   "metadata": {},
   "outputs": [
    {
     "name": "stdout",
     "output_type": "stream",
     "text": [
      "['Dan', 0, 3, 52, 2.7, 'to the back']\n",
      "['Dan', 0, 3, 52, 2.7, 'to the back']\n",
      "['Mitchell', 0, 3, 52, 2.7, 'to the back']\n",
      "['Dan', 0, 3, 52, 2.7, 'to the back']\n"
     ]
    }
   ],
   "source": [
    "# we must use the copy method to prevent this behavior\n",
    "\n",
    "list3 = simple_list.copy()\n",
    "print(list3)\n",
    "print(simple_list)\n",
    "list3[0] = 'Mitchell'\n",
    "print(list3)\n",
    "print(simple_list)"
   ]
  },
  {
   "cell_type": "code",
   "execution_count": 16,
   "id": "fcd4baef",
   "metadata": {},
   "outputs": [
    {
     "name": "stdout",
     "output_type": "stream",
     "text": [
      "(12, 42, 11, 99, 2351)\n",
      "42\n"
     ]
    }
   ],
   "source": [
    "# a tuple is an ordered collection of values that are unchangeable and allows duplicates\n",
    "\n",
    "simple_tuple = (12,42,11,99,2351)\n",
    "print(simple_tuple)\n",
    "print(simple_tuple[1])"
   ]
  },
  {
   "cell_type": "code",
   "execution_count": 17,
   "id": "56e9a8cf",
   "metadata": {},
   "outputs": [
    {
     "ename": "TypeError",
     "evalue": "'tuple' object does not support item assignment",
     "output_type": "error",
     "traceback": [
      "\u001b[0;31m---------------------------------------------------------------------------\u001b[0m",
      "\u001b[0;31mTypeError\u001b[0m                                 Traceback (most recent call last)",
      "\u001b[0;32m<ipython-input-17-697e5ee0991c>\u001b[0m in \u001b[0;36m<module>\u001b[0;34m\u001b[0m\n\u001b[1;32m      1\u001b[0m \u001b[0;31m# it is not possible to change entries in a tuple\u001b[0m\u001b[0;34m\u001b[0m\u001b[0;34m\u001b[0m\u001b[0;34m\u001b[0m\u001b[0m\n\u001b[1;32m      2\u001b[0m \u001b[0;34m\u001b[0m\u001b[0m\n\u001b[0;32m----> 3\u001b[0;31m \u001b[0msimple_tuple\u001b[0m\u001b[0;34m[\u001b[0m\u001b[0;36m0\u001b[0m\u001b[0;34m]\u001b[0m \u001b[0;34m=\u001b[0m \u001b[0;36m5\u001b[0m\u001b[0;34m\u001b[0m\u001b[0;34m\u001b[0m\u001b[0m\n\u001b[0m",
      "\u001b[0;31mTypeError\u001b[0m: 'tuple' object does not support item assignment"
     ]
    }
   ],
   "source": [
    "# it is not possible to change entries in a tuple\n",
    "\n",
    "simple_tuple[0] = 5"
   ]
  },
  {
   "cell_type": "code",
   "execution_count": 18,
   "id": "37c98ff7",
   "metadata": {},
   "outputs": [
    {
     "name": "stdout",
     "output_type": "stream",
     "text": [
      "(5, 42, 11, 99, 2351)\n"
     ]
    }
   ],
   "source": [
    "# you can work around this though...\n",
    "\n",
    "dummy = list(simple_tuple)\n",
    "dummy[0] = 5\n",
    "simple_tuple = tuple(dummy)\n",
    "print(simple_tuple)"
   ]
  },
  {
   "cell_type": "code",
   "execution_count": 19,
   "id": "188561f5",
   "metadata": {},
   "outputs": [
    {
     "name": "stdout",
     "output_type": "stream",
     "text": [
      "{11, -2, 'water'}\n"
     ]
    }
   ],
   "source": [
    "# a set is an unordered collection of values that are changeable and does not allow duplicates\n",
    "\n",
    "simple_set = {11,-2,'water',-2}\n",
    "print(simple_set)"
   ]
  },
  {
   "cell_type": "code",
   "execution_count": 20,
   "id": "10c0d1d9",
   "metadata": {},
   "outputs": [
    {
     "ename": "TypeError",
     "evalue": "'set' object is not subscriptable",
     "output_type": "error",
     "traceback": [
      "\u001b[0;31m---------------------------------------------------------------------------\u001b[0m",
      "\u001b[0;31mTypeError\u001b[0m                                 Traceback (most recent call last)",
      "\u001b[0;32m<ipython-input-20-263fc76fcfaa>\u001b[0m in \u001b[0;36m<module>\u001b[0;34m\u001b[0m\n\u001b[0;32m----> 1\u001b[0;31m \u001b[0mprint\u001b[0m\u001b[0;34m(\u001b[0m\u001b[0msimple_set\u001b[0m\u001b[0;34m[\u001b[0m\u001b[0;36m1\u001b[0m\u001b[0;34m]\u001b[0m\u001b[0;34m)\u001b[0m\u001b[0;34m\u001b[0m\u001b[0;34m\u001b[0m\u001b[0m\n\u001b[0m",
      "\u001b[0;31mTypeError\u001b[0m: 'set' object is not subscriptable"
     ]
    }
   ],
   "source": [
    "print(simple_set[1])"
   ]
  },
  {
   "cell_type": "code",
   "execution_count": 21,
   "id": "8730774b",
   "metadata": {},
   "outputs": [
    {
     "name": "stdout",
     "output_type": "stream",
     "text": [
      "True\n"
     ]
    }
   ],
   "source": [
    "print('water' in simple_set)"
   ]
  },
  {
   "cell_type": "code",
   "execution_count": 22,
   "id": "56271a00",
   "metadata": {},
   "outputs": [
    {
     "name": "stdout",
     "output_type": "stream",
     "text": [
      "{72, 11, -2, 'water'}\n",
      "{72, 11, -2}\n"
     ]
    }
   ],
   "source": [
    "# you can't change values but you can add and remove entries from a set\n",
    "\n",
    "simple_set.add(72)\n",
    "print(simple_set)\n",
    "simple_set.remove('water')\n",
    "print(simple_set)"
   ]
  },
  {
   "cell_type": "code",
   "execution_count": 26,
   "id": "bef61c2c",
   "metadata": {},
   "outputs": [
    {
     "name": "stdout",
     "output_type": "stream",
     "text": [
      "{'brand': 'Apple', 'product': 'iPhone', 'model': 'X'}\n",
      "I bought an iPhone model X from Apple\n"
     ]
    }
   ],
   "source": [
    "# a dictionary is a collection of values that are unordered (but indexed) and changeable\n",
    "\n",
    "simple_dict = {\n",
    "    'brand': 'Apple',\n",
    "    'product': 'iPhone',\n",
    "    'model': 'X'\n",
    "}\n",
    "\n",
    "print(simple_dict)\n",
    "print('I bought an',simple_dict['product'],'model',simple_dict['model'],'from',simple_dict['brand'])"
   ]
  },
  {
   "cell_type": "code",
   "execution_count": 27,
   "id": "a6d6c750",
   "metadata": {},
   "outputs": [
    {
     "name": "stdout",
     "output_type": "stream",
     "text": [
      "I bought an iPhone model 11 Pro from Apple\n"
     ]
    }
   ],
   "source": [
    "simple_dict['model'] = '11 Pro'\n",
    "print('I bought an',simple_dict['product'],'model',simple_dict['model'],'from',simple_dict['brand'])"
   ]
  },
  {
   "cell_type": "code",
   "execution_count": 31,
   "id": "612058a9",
   "metadata": {},
   "outputs": [
    {
     "name": "stdout",
     "output_type": "stream",
     "text": [
      "I bought a red iPhone model 11 Pro from Apple\n"
     ]
    }
   ],
   "source": [
    "# we can also add entries to the dictionary\n",
    "\n",
    "simple_dict['color'] = 'red'\n",
    "print('I bought a',simple_dict['color'],simple_dict['product'],'model',simple_dict['model'],'from',simple_dict['brand'])"
   ]
  },
  {
   "cell_type": "markdown",
   "id": "3594b79e",
   "metadata": {},
   "source": [
    "# Accessing data in lists\n",
    "\n",
    "A list is the main data type we will use for now and there are some rules we need to remember for accessing data in lists.\n",
    "\n",
    "Later we'll get into NumPy arrays, but the same rules here apply to them.\n",
    "\n",
    "With NumPy arrays we can access data in more ways."
   ]
  },
  {
   "cell_type": "code",
   "execution_count": 33,
   "id": "79ef048d",
   "metadata": {},
   "outputs": [
    {
     "name": "stdout",
     "output_type": "stream",
     "text": [
      "[2, 7, 3]\n",
      "[2]\n",
      "[7, 3, 66, 1923]\n"
     ]
    }
   ],
   "source": [
    "simple_list = [1,5,2,7,3,66,1923,11]\n",
    "# we can access multiple values in the list using the\n",
    "print(simple_list[2:5])\n",
    "# we must be careful though\n",
    "# why isn't 66 in the output?\n",
    "# the number to the left of the ':' is inclusive, but the number to the right is exclusive\n",
    "print(simple_list[2:3])\n",
    "# we can also use negative numbers\n",
    "print(simple_list[-5:-1])"
   ]
  },
  {
   "cell_type": "markdown",
   "id": "88641808",
   "metadata": {},
   "source": [
    "# Wrapping up\n",
    "\n",
    "Once we are done with a notebook we can export it as an html file.\n",
    "\n",
    "    1. File\n",
    "    2. Download as\n",
    "    3. HTML\n",
    "    \n",
    "The code in this HTML file can't be re-run but is a concise way to communicate your results. And anyone can copy/paste your cell inputs."
   ]
  },
  {
   "cell_type": "markdown",
   "id": "627a5bde",
   "metadata": {},
   "source": [
    "# 1.5 Test Your Understanding"
   ]
  },
  {
   "cell_type": "code",
   "execution_count": 34,
   "id": "76179e7a",
   "metadata": {},
   "outputs": [
    {
     "data": {
      "text/plain": [
       "tuple"
      ]
     },
     "execution_count": 34,
     "metadata": {},
     "output_type": "execute_result"
    }
   ],
   "source": [
    "X = (10,'Range','DSBA',-54,11,12)\n",
    "type(X)"
   ]
  },
  {
   "cell_type": "code",
   "execution_count": 35,
   "id": "0438045d",
   "metadata": {},
   "outputs": [
    {
     "name": "stdout",
     "output_type": "stream",
     "text": [
      "['DSBA', -54]\n"
     ]
    }
   ],
   "source": [
    "X = [10,'Range','DSBA',-54,11,12]\n",
    "print(X[2:4])"
   ]
  },
  {
   "cell_type": "code",
   "execution_count": 36,
   "id": "477717b6",
   "metadata": {},
   "outputs": [
    {
     "name": "stdout",
     "output_type": "stream",
     "text": [
      "2\n"
     ]
    }
   ],
   "source": [
    "print(len(X[2:4]))"
   ]
  },
  {
   "cell_type": "code",
   "execution_count": 37,
   "id": "0ebd6a94",
   "metadata": {},
   "outputs": [
    {
     "name": "stdout",
     "output_type": "stream",
     "text": [
      "[]\n"
     ]
    }
   ],
   "source": [
    "print(X[2:1])"
   ]
  },
  {
   "cell_type": "code",
   "execution_count": 38,
   "id": "e91523d6",
   "metadata": {},
   "outputs": [
    {
     "name": "stdout",
     "output_type": "stream",
     "text": [
      "[11]\n"
     ]
    }
   ],
   "source": [
    "print(X[-2:-1])"
   ]
  },
  {
   "cell_type": "code",
   "execution_count": 40,
   "id": "f12c027b",
   "metadata": {
    "scrolled": true
   },
   "outputs": [
    {
     "ename": "TypeError",
     "evalue": "'set' object is not subscriptable",
     "output_type": "error",
     "traceback": [
      "\u001b[0;31m---------------------------------------------------------------------------\u001b[0m",
      "\u001b[0;31mTypeError\u001b[0m                                 Traceback (most recent call last)",
      "\u001b[0;32m<ipython-input-40-69f165baf673>\u001b[0m in \u001b[0;36m<module>\u001b[0;34m\u001b[0m\n\u001b[1;32m      1\u001b[0m \u001b[0mX\u001b[0m \u001b[0;34m=\u001b[0m \u001b[0;34m{\u001b[0m\u001b[0;36m10\u001b[0m\u001b[0;34m,\u001b[0m\u001b[0;34m'Range'\u001b[0m\u001b[0;34m,\u001b[0m\u001b[0;34m'DSBA'\u001b[0m\u001b[0;34m,\u001b[0m\u001b[0;34m-\u001b[0m\u001b[0;36m54\u001b[0m\u001b[0;34m,\u001b[0m\u001b[0;36m11\u001b[0m\u001b[0;34m,\u001b[0m\u001b[0;36m12\u001b[0m\u001b[0;34m}\u001b[0m\u001b[0;34m\u001b[0m\u001b[0;34m\u001b[0m\u001b[0m\n\u001b[0;32m----> 2\u001b[0;31m \u001b[0mprint\u001b[0m\u001b[0;34m(\u001b[0m\u001b[0mX\u001b[0m\u001b[0;34m[\u001b[0m\u001b[0;36m1\u001b[0m\u001b[0;34m]\u001b[0m\u001b[0;34m)\u001b[0m\u001b[0;34m\u001b[0m\u001b[0;34m\u001b[0m\u001b[0m\n\u001b[0m",
      "\u001b[0;31mTypeError\u001b[0m: 'set' object is not subscriptable"
     ]
    }
   ],
   "source": [
    "X = {10,'Range','DSBA',-54,11,12}\n",
    "print(X[1])"
   ]
  }
 ],
 "metadata": {
  "kernelspec": {
   "display_name": "Python 3",
   "language": "python",
   "name": "python3"
  },
  "language_info": {
   "codemirror_mode": {
    "name": "ipython",
    "version": 3
   },
   "file_extension": ".py",
   "mimetype": "text/x-python",
   "name": "python",
   "nbconvert_exporter": "python",
   "pygments_lexer": "ipython3",
   "version": "3.8.8"
  }
 },
 "nbformat": 4,
 "nbformat_minor": 5
}

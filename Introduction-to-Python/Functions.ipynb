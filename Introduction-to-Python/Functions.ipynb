{
 "cells": [
  {
   "cell_type": "markdown",
   "id": "f22f784c",
   "metadata": {},
   "source": [
    "# User defined functions\n",
    "\n",
    "It is often useful to define your own function to do something then have your Python code call that function.\n",
    "\n",
    "This can be useful when you want to perform the same computation in several different scenarios. If you put this computation inside a function then you won't have to rewrite your code each time you want to make the computation.\n",
    "\n",
    "There are 2 ways to do this:\n",
    "\n",
    "    1. defined functions\n",
    "    2. lambda functions (infinite)"
   ]
  },
  {
   "cell_type": "code",
   "execution_count": 7,
   "id": "f873a821",
   "metadata": {},
   "outputs": [
    {
     "name": "stdout",
     "output_type": "stream",
     "text": [
      "x^2 + 7 = 16\n",
      "\n",
      " \"   this is my documentation string\n",
      "    it needs to be in triple double quotes\n",
      "    this function returns x^2 + 7\n"
     ]
    }
   ],
   "source": [
    "# define a function that takes an input, squares it, adds 7, then returns the answer\n",
    "def x2p7(x):\n",
    "    \"\"\"\"   this is my documentation string\n",
    "    it needs to be in triple double quotes\n",
    "    this function returns x^2 + 7\"\"\"\n",
    "    y = x*x\n",
    "    z = y+7\n",
    "    return z\n",
    "print('x^2 + 7 =',x2p7(3))\n",
    "print('\\n',x2p7.__doc__)"
   ]
  },
  {
   "cell_type": "code",
   "execution_count": 2,
   "id": "b7f8f5c7",
   "metadata": {},
   "outputs": [
    {
     "data": {
      "text/plain": [
       "<function __main__.x2p7(x)>"
      ]
     },
     "execution_count": 2,
     "metadata": {},
     "output_type": "execute_result"
    }
   ],
   "source": [
    "# if we have a documentation string then we can quickly access it with shift+tab\n",
    "x2p7"
   ]
  },
  {
   "cell_type": "code",
   "execution_count": 8,
   "id": "91b5f8ce",
   "metadata": {},
   "outputs": [
    {
     "name": "stdout",
     "output_type": "stream",
     "text": [
      "[34, 234, 31, 888, 68, 468, 62, 1776, 102, 702, 93, 2664, 136, 936, 124, 3552]\n"
     ]
    }
   ],
   "source": [
    "# these functions can be very complicated\n",
    "def complicated_function(x,y):\n",
    "    lenx = len(x)\n",
    "    leny = len(y)\n",
    "    z = [0]*(lenx*leny)\n",
    "    counter = 0\n",
    "    for i in x:\n",
    "        for j in y:\n",
    "            z[counter] = i*j\n",
    "            counter = counter+1\n",
    "    return z\n",
    "output = complicated_function([1,2,3,4],[34,234,31,888])\n",
    "print(output)"
   ]
  },
  {
   "cell_type": "code",
   "execution_count": 10,
   "id": "f9671bc1",
   "metadata": {},
   "outputs": [
    {
     "ename": "NameError",
     "evalue": "name 'lenx' is not defined",
     "output_type": "error",
     "traceback": [
      "\u001b[0;31m---------------------------------------------------------------------------\u001b[0m",
      "\u001b[0;31mNameError\u001b[0m                                 Traceback (most recent call last)",
      "\u001b[0;32m<ipython-input-10-6bdc9cdfed81>\u001b[0m in \u001b[0;36m<module>\u001b[0;34m\u001b[0m\n\u001b[1;32m      1\u001b[0m \u001b[0;31m# scope\u001b[0m\u001b[0;34m\u001b[0m\u001b[0;34m\u001b[0m\u001b[0;34m\u001b[0m\u001b[0m\n\u001b[0;32m----> 2\u001b[0;31m \u001b[0mprint\u001b[0m\u001b[0;34m(\u001b[0m\u001b[0mlenx\u001b[0m\u001b[0;34m)\u001b[0m\u001b[0;34m\u001b[0m\u001b[0;34m\u001b[0m\u001b[0m\n\u001b[0m\u001b[1;32m      3\u001b[0m \u001b[0;34m\u001b[0m\u001b[0m\n\u001b[1;32m      4\u001b[0m \u001b[0;31m# lenx is not available outside of the function, it is a local variable(restricted to defined function)\u001b[0m\u001b[0;34m\u001b[0m\u001b[0;34m\u001b[0m\u001b[0;34m\u001b[0m\u001b[0m\n",
      "\u001b[0;31mNameError\u001b[0m: name 'lenx' is not defined"
     ]
    }
   ],
   "source": [
    "# scope\n",
    "print(lenx)\n",
    "\n",
    "# lenx is not available outside of the function, it is a local variable(restricted to defined function)"
   ]
  },
  {
   "cell_type": "code",
   "execution_count": 11,
   "id": "113209b3",
   "metadata": {},
   "outputs": [
    {
     "name": "stdout",
     "output_type": "stream",
     "text": [
      "426\n",
      "213\n"
     ]
    }
   ],
   "source": [
    "# a variable defined inside a function cannot be accessed from outside the function\n",
    "# but a variable defined outside a function can be accessed from inside the function!\n",
    "outside_var = 213\n",
    "def a_function(x):\n",
    "    return outside_var*x\n",
    "\n",
    "print(a_function(2))\n",
    "print(outside_var)"
   ]
  },
  {
   "cell_type": "code",
   "execution_count": 12,
   "id": "a860de27",
   "metadata": {},
   "outputs": [
    {
     "name": "stdout",
     "output_type": "stream",
     "text": [
      "20\n",
      "5\n"
     ]
    }
   ],
   "source": [
    "# we can address scope issue by declaring a variable as global\n",
    "def another_function(x):\n",
    "    global global_var\n",
    "    global_var = 5\n",
    "    return global_var*x\n",
    "\n",
    "print(another_function(4))\n",
    "print(global_var)"
   ]
  },
  {
   "cell_type": "code",
   "execution_count": 13,
   "id": "b2dc7f6c",
   "metadata": {},
   "outputs": [
    {
     "name": "stdout",
     "output_type": "stream",
     "text": [
      "32\n"
     ]
    }
   ],
   "source": [
    "# the first function we wrote(x2p7) was actually a very simple function\n",
    "# we can define such simple functions 'inline' using something called a lambda function\n",
    "\n",
    "x2p7v2 = lambda x: x*x+7\n",
    "print(x2p7v2(5))"
   ]
  },
  {
   "cell_type": "code",
   "execution_count": 14,
   "id": "e14b52fa",
   "metadata": {},
   "outputs": [
    {
     "name": "stdout",
     "output_type": "stream",
     "text": [
      "40.4\n"
     ]
    }
   ],
   "source": [
    "# lambda functions can also take more than 1 input\n",
    "another_lambda = lambda x,y,z: x*y + y*z + x/y\n",
    "print(another_lambda(2,5,6))"
   ]
  },
  {
   "cell_type": "markdown",
   "id": "2aec0bc8",
   "metadata": {},
   "source": [
    "# 1.8 Test Your Understanding"
   ]
  },
  {
   "cell_type": "code",
   "execution_count": 18,
   "id": "f81a76cf",
   "metadata": {},
   "outputs": [
    {
     "ename": "NameError",
     "evalue": "name 'y' is not defined",
     "output_type": "error",
     "traceback": [
      "\u001b[0;31m---------------------------------------------------------------------------\u001b[0m",
      "\u001b[0;31mNameError\u001b[0m                                 Traceback (most recent call last)",
      "\u001b[0;32m<ipython-input-18-3533fc202a6f>\u001b[0m in \u001b[0;36m<module>\u001b[0;34m\u001b[0m\n\u001b[1;32m      8\u001b[0m \u001b[0;31m# print(newFunction3(-2,-3,-4))\u001b[0m\u001b[0;34m\u001b[0m\u001b[0;34m\u001b[0m\u001b[0;34m\u001b[0m\u001b[0m\n\u001b[1;32m      9\u001b[0m \u001b[0;34m\u001b[0m\u001b[0m\n\u001b[0;32m---> 10\u001b[0;31m \u001b[0mnewFunction4\u001b[0m \u001b[0;34m=\u001b[0m \u001b[0;32mlambda\u001b[0m \u001b[0mx\u001b[0m\u001b[0;34m,\u001b[0m\u001b[0my\u001b[0m\u001b[0;34m,\u001b[0m\u001b[0mz\u001b[0m\u001b[0;34m:\u001b[0m \u001b[0mx\u001b[0m\u001b[0;34m-\u001b[0m\u001b[0;36m1\u001b[0m\u001b[0;34m,\u001b[0m \u001b[0my\u001b[0m\u001b[0;34m-\u001b[0m\u001b[0;36m2\u001b[0m\u001b[0;34m,\u001b[0m \u001b[0mz\u001b[0m\u001b[0;34m-\u001b[0m\u001b[0;36m3\u001b[0m\u001b[0;34m\u001b[0m\u001b[0;34m\u001b[0m\u001b[0m\n\u001b[0m\u001b[1;32m     11\u001b[0m \u001b[0mprint\u001b[0m\u001b[0;34m(\u001b[0m\u001b[0mnewFunction4\u001b[0m\u001b[0;34m(\u001b[0m\u001b[0;36m2\u001b[0m\u001b[0;34m,\u001b[0m\u001b[0;36m3\u001b[0m\u001b[0;34m,\u001b[0m\u001b[0;36m4\u001b[0m\u001b[0;34m)\u001b[0m\u001b[0;34m)\u001b[0m\u001b[0;34m\u001b[0m\u001b[0;34m\u001b[0m\u001b[0m\n",
      "\u001b[0;31mNameError\u001b[0m: name 'y' is not defined"
     ]
    }
   ],
   "source": [
    "# newFunction1 = lambda x: x-x+4\n",
    "# print(newFunction1(2))\n",
    "\n",
    "# newFunction2 = lambda x,y,z: x-x+4\n",
    "# print(newFunction2(2,1,2))\n",
    "\n",
    "# newFunction3 = lambda x,y,z: x-y+z+x-y+z+4\n",
    "# print(newFunction3(-2,-3,-4))\n",
    "\n",
    "newFunction4 = lambda x,y,z: x-1, y-2, z-3\n",
    "print(newFunction4(2,3,4))"
   ]
  },
  {
   "cell_type": "code",
   "execution_count": null,
   "id": "55e3f275",
   "metadata": {},
   "outputs": [],
   "source": []
  }
 ],
 "metadata": {
  "kernelspec": {
   "display_name": "Python 3",
   "language": "python",
   "name": "python3"
  },
  "language_info": {
   "codemirror_mode": {
    "name": "ipython",
    "version": 3
   },
   "file_extension": ".py",
   "mimetype": "text/x-python",
   "name": "python",
   "nbconvert_exporter": "python",
   "pygments_lexer": "ipython3",
   "version": "3.8.8"
  }
 },
 "nbformat": 4,
 "nbformat_minor": 5
}

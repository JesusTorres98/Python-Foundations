{
 "cells": [
  {
   "cell_type": "markdown",
   "metadata": {},
   "source": [
    "# USER DEFINED FUNCTION AND LAMBDA FUNCTIONS EXERCISE"
   ]
  },
  {
   "cell_type": "markdown",
   "metadata": {},
   "source": [
    "------------"
   ]
  },
  {
   "cell_type": "markdown",
   "metadata": {},
   "source": [
    "### 1.Write a function to add, subtract, multiply and divide two variables passed to it and print the result "
   ]
  },
  {
   "cell_type": "code",
   "execution_count": 2,
   "metadata": {
    "scrolled": true
   },
   "outputs": [
    {
     "name": "stdout",
     "output_type": "stream",
     "text": [
      "Please enter two numbers of your choice:\n",
      "1\n",
      "2\n",
      "1.0 plus 2.0 is equal to 3.0\n",
      "1.0 minus 2.0 is equal to -1.0\n",
      "1.0 times 2.0 is equal to 2.0\n",
      "1.0 divided by 2.0 is equal to 0.5\n"
     ]
    }
   ],
   "source": [
    "print('Please enter two numbers of your choice:')\n",
    "num1 = float(input())\n",
    "num2 = float(input())\n",
    "\n",
    "add_function = num1 + num2\n",
    "print(num1,'plus',num2,'is equal to',add_function)\n",
    "\n",
    "subtract_function = num1 - num2\n",
    "print(num1,'minus',num2,'is equal to',subtract_function)\n",
    "\n",
    "mult_function = num1 * num2\n",
    "print(num1,'times',num2,'is equal to',mult_function)\n",
    "\n",
    "div_function = num1 / num2\n",
    "print(num1,'divided by',num2,'is equal to',div_function)"
   ]
  },
  {
   "cell_type": "code",
   "execution_count": 3,
   "metadata": {},
   "outputs": [
    {
     "name": "stdout",
     "output_type": "stream",
     "text": [
      "1 plus 2 is equal to 3\n",
      "1 minus 2 is equal to -1\n",
      "1 times 2 is equal to 2\n",
      "1 divided by 2 is equal to 0.5\n"
     ]
    }
   ],
   "source": [
    "def operators (x,y):\n",
    "    print(x,'plus',y,'is equal to',x+y)\n",
    "    print(x,'minus',y,'is equal to',x-y)\n",
    "    print(x,'times',y,'is equal to',x*y)\n",
    "    print(x,'divided by',y,'is equal to',x/y)\n",
    "operators(1,2)"
   ]
  },
  {
   "cell_type": "markdown",
   "metadata": {},
   "source": [
    "### 2.Write a Python function given range (1,10) both included, that gives the square of every number"
   ]
  },
  {
   "cell_type": "code",
   "execution_count": 9,
   "metadata": {},
   "outputs": [
    {
     "name": "stdout",
     "output_type": "stream",
     "text": [
      "The square of 1 is equal to 1\n",
      "The square of 2 is equal to 4\n",
      "The square of 3 is equal to 9\n",
      "The square of 4 is equal to 16\n",
      "The square of 5 is equal to 25\n",
      "The square of 6 is equal to 36\n",
      "The square of 7 is equal to 49\n",
      "The square of 8 is equal to 64\n",
      "The square of 9 is equal to 81\n",
      "The square of 10 is equal to 100\n"
     ]
    }
   ],
   "source": [
    "def squares_function():\n",
    "    for i in range(1,11):\n",
    "        print(\"The square of\",i,'is equal to',i*i) # you can also use the operator ** for a root power\n",
    "\n",
    "squares_function()"
   ]
  },
  {
   "cell_type": "markdown",
   "metadata": {},
   "source": [
    "### 3.Write a function to calculate simple interest\n",
    "\n",
    "simple interest = (Principal amount * Annual Rate of interest * Time(in years))/100\n",
    "\n",
    "Take values as follows\n",
    "\n",
    "Principal Amount = 1000\n",
    "\n",
    "Rate of interest = 3%\n",
    "\n",
    "Time = 5 years"
   ]
  },
  {
   "cell_type": "code",
   "execution_count": 15,
   "metadata": {},
   "outputs": [
    {
     "data": {
      "text/plain": [
       "150.0"
      ]
     },
     "execution_count": 15,
     "metadata": {},
     "output_type": "execute_result"
    }
   ],
   "source": [
    "def simple_interest(x,y,z):\n",
    "    si = (x*y*z)/100\n",
    "    return si\n",
    "    \n",
    "simple_interest(1000,3,5)"
   ]
  },
  {
   "cell_type": "markdown",
   "metadata": {},
   "source": [
    "### 4. Write a function to check the number is divisible by 25. The function should return True if divisible and \"Not divisible\" if not"
   ]
  },
  {
   "cell_type": "code",
   "execution_count": 18,
   "metadata": {},
   "outputs": [
    {
     "name": "stdout",
     "output_type": "stream",
     "text": [
      "23\n",
      "Not divisible by 25.\n"
     ]
    }
   ],
   "source": [
    "def div25 (x):\n",
    "    if x % 25 == 0:\n",
    "        return True\n",
    "    else:\n",
    "        print('Not divisible by 25.')\n",
    "\n",
    "x = int(input())\n",
    "div25(x)"
   ]
  },
  {
   "cell_type": "markdown",
   "metadata": {},
   "source": [
    "### 5.Define a function that takes an input, squares it, adds 5, then returns the answer"
   ]
  },
  {
   "cell_type": "code",
   "execution_count": 22,
   "metadata": {},
   "outputs": [
    {
     "name": "stdout",
     "output_type": "stream",
     "text": [
      "Please enter a number of your choice:\n",
      "5\n",
      "The number 5.0 squared plus 5 is equal to 30.0\n"
     ]
    }
   ],
   "source": [
    "def function1 (x):\n",
    "    output = (x**2) + 5\n",
    "    return output\n",
    "\n",
    "print('Please enter a number of your choice:')\n",
    "x = float(input())\n",
    "print('The number',x,'squared plus 5 is equal to',function1(x))"
   ]
  },
  {
   "cell_type": "markdown",
   "metadata": {},
   "source": [
    "### 6.Using lambda function perform the following task : take an input, squares it, add 5, then return the answer"
   ]
  },
  {
   "cell_type": "code",
   "execution_count": 23,
   "metadata": {},
   "outputs": [
    {
     "name": "stdout",
     "output_type": "stream",
     "text": [
      "Please enter a number of your choice:\n",
      "5\n",
      "The number 5.0 squared plus 5 is equal to 30.0\n"
     ]
    }
   ],
   "source": [
    "function2 = lambda x: (x**2) + 5\n",
    "\n",
    "print('Please enter a number of your choice:')\n",
    "x = float(input())\n",
    "print('The number',x,'squared plus 5 is equal to',function2(x))"
   ]
  },
  {
   "cell_type": "markdown",
   "metadata": {},
   "source": [
    "### 7. Write a function to calculate the power of a number raised to other ($a^b$)"
   ]
  },
  {
   "cell_type": "code",
   "execution_count": 25,
   "metadata": {},
   "outputs": [
    {
     "name": "stdout",
     "output_type": "stream",
     "text": [
      "Please enter your base number:\n",
      "1.5\n",
      "Please enter your power number:\n",
      "3\n",
      "The number 1.5 to the power of 3.0 is equal to 3.375\n"
     ]
    }
   ],
   "source": [
    "pwrfunction = lambda x,y: x**y\n",
    "\n",
    "print('Please enter your base number:')\n",
    "x = float(input())\n",
    "print('Please enter your power number:')\n",
    "y = float(input())\n",
    "print('The number',x,'to the power of',y,'is equal to',pwrfunction(x,y))"
   ]
  },
  {
   "cell_type": "markdown",
   "metadata": {},
   "source": [
    "### 8. Write a function to calculate the area of a triangle\n",
    "\n",
    "area of triangle = 1/2 * base * height"
   ]
  },
  {
   "cell_type": "code",
   "execution_count": 26,
   "metadata": {},
   "outputs": [
    {
     "name": "stdout",
     "output_type": "stream",
     "text": [
      "Please enter the base of the triangle:\n",
      "2\n",
      "Please enter the height of the triangle:\n",
      "5\n",
      "The area of the triangle with base 2.0 and height 5.0 is equal to 5.0\n"
     ]
    }
   ],
   "source": [
    "area_of_triangle = lambda x,y: 0.5*x*y\n",
    "\n",
    "print('Please enter the base of the triangle:')\n",
    "x = float(input())\n",
    "print('Please enter the height of the triangle:')\n",
    "y = float(input())\n",
    "print('The area of the triangle with base',x,'and height',y,'is equal to',area_of_triangle(x,y))"
   ]
  },
  {
   "cell_type": "markdown",
   "metadata": {},
   "source": [
    "### 9. Create a function that takes country as the input and returns \"I am from *Country* \""
   ]
  },
  {
   "cell_type": "code",
   "execution_count": 27,
   "metadata": {},
   "outputs": [
    {
     "name": "stdout",
     "output_type": "stream",
     "text": [
      "Please enter your origin country:\n",
      "Mexico\n",
      "I am from Mexico\n"
     ]
    }
   ],
   "source": [
    "def country(x):\n",
    "    return x\n",
    "\n",
    "print('Please enter your origin country:')\n",
    "x = input()\n",
    "print('I am from',country(x))"
   ]
  },
  {
   "cell_type": "markdown",
   "metadata": {},
   "source": [
    "### 10. Write a function to convert degree Celsius temperature to Fahrenheit"
   ]
  },
  {
   "cell_type": "code",
   "execution_count": 34,
   "metadata": {
    "scrolled": true
   },
   "outputs": [
    {
     "name": "stdout",
     "output_type": "stream",
     "text": [
      "Enter the temperature in degrees Celcius:\n",
      "35\n",
      "The temperature in 35.0 degrees Celcius is 95.0 in degrees Fahrenheit.\n"
     ]
    }
   ],
   "source": [
    "temp_cel_to_fah = lambda x: x*(9/5) + 32\n",
    "\n",
    "print('Enter the temperature in degrees Celcius:')\n",
    "x = float(input())\n",
    "print('The temperature in',x,'degrees Celcius is',temp_cel_to_fah(x),'in degrees Fahrenheit.')"
   ]
  }
 ],
 "metadata": {
  "kernelspec": {
   "display_name": "Python 3",
   "language": "python",
   "name": "python3"
  },
  "language_info": {
   "codemirror_mode": {
    "name": "ipython",
    "version": 3
   },
   "file_extension": ".py",
   "mimetype": "text/x-python",
   "name": "python",
   "nbconvert_exporter": "python",
   "pygments_lexer": "ipython3",
   "version": "3.8.8"
  }
 },
 "nbformat": 4,
 "nbformat_minor": 4
}

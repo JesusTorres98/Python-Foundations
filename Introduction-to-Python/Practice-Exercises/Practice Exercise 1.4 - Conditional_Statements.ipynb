{
 "cells": [
  {
   "cell_type": "markdown",
   "metadata": {},
   "source": [
    "# CONDITIONAL STATEMENTS EXERCISE"
   ]
  },
  {
   "cell_type": "markdown",
   "metadata": {},
   "source": [
    "---------------"
   ]
  },
  {
   "cell_type": "markdown",
   "metadata": {},
   "source": [
    "### 1. Check if a is equal to 10, If yes, print \"Hello\", else print \"Good Bye\"\n",
    "a = 56"
   ]
  },
  {
   "cell_type": "code",
   "execution_count": 1,
   "metadata": {},
   "outputs": [
    {
     "name": "stdout",
     "output_type": "stream",
     "text": [
      "Good Bye\n"
     ]
    }
   ],
   "source": [
    "a = 56\n",
    "if a == 10:\n",
    "    print('Hello')\n",
    "else:\n",
    "    print('Good Bye')"
   ]
  },
  {
   "cell_type": "markdown",
   "metadata": {},
   "source": [
    "### 2. Check whether a number is even or odd\n",
    "a = 2020"
   ]
  },
  {
   "cell_type": "code",
   "execution_count": 4,
   "metadata": {},
   "outputs": [
    {
     "name": "stdout",
     "output_type": "stream",
     "text": [
      "Even\n"
     ]
    }
   ],
   "source": [
    "a = 2020\n",
    "if (a % 2 == 0):\n",
    "    print('Even')\n",
    "else:\n",
    "    print('Odd')"
   ]
  },
  {
   "cell_type": "markdown",
   "metadata": {},
   "source": [
    "### 3.  Check whether the area of the rectangle is greater than the perimeter of the rectangle\n",
    "length = 5\n",
    "breadth = 10\n",
    "\n",
    "Hint: Area of rectangle = length * breadth \n",
    "\n",
    "Hint: Perimeter of rectangle = 2 * (length + breadth)"
   ]
  },
  {
   "cell_type": "code",
   "execution_count": 10,
   "metadata": {},
   "outputs": [
    {
     "name": "stdout",
     "output_type": "stream",
     "text": [
      "The area is greater than the perimeter.\n"
     ]
    }
   ],
   "source": [
    "x = 5\n",
    "y = 10\n",
    "\n",
    "area = x*y\n",
    "perimeter = 2*(x+y)\n",
    "\n",
    "if area > perimeter:\n",
    "    print('The area is greater than the perimeter.')\n",
    "else:\n",
    "    print('The perimeter is greater than the area.')"
   ]
  },
  {
   "cell_type": "code",
   "execution_count": 9,
   "metadata": {},
   "outputs": [
    {
     "name": "stdout",
     "output_type": "stream",
     "text": [
      "The area of the rectangle 50 is greater than the perimeter of the rectangle 30\n"
     ]
    }
   ],
   "source": [
    "length = 5\n",
    "breadth = 10\n",
    "\n",
    "area_of_rectangle = length * breadth\n",
    "perimeter_of_rectangle = 2 * (length + breadth)\n",
    "\n",
    "if area_of_rectangle > perimeter_of_rectangle:\n",
    "    print('The area of the rectangle',area_of_rectangle,'is greater than the perimeter of the rectangle',perimeter_of_rectangle)"
   ]
  },
  {
   "cell_type": "markdown",
   "metadata": {},
   "source": [
    "### 4.Calculate the average marks of a student in 5 subjects and give grades accordingly:\n",
    "If average>90 then Grade = A\n",
    "\n",
    "If average>80 then Grade = B\n",
    "\n",
    "If average>70 then Grade = C\n",
    "\n",
    "If average>60 then Grade = D\n",
    "\n",
    "If average>50 then Grade = E\n",
    "\n",
    "else Fail\n",
    "\n",
    "Marks in subject 1= 72\n",
    "\n",
    "Marks in subject 2= 85\n",
    "\n",
    "Marks in subject 3= 96\n",
    "\n",
    "Marks in subject 4= 42\n",
    "\n",
    "Marks in subject 5= 95"
   ]
  },
  {
   "cell_type": "code",
   "execution_count": 15,
   "metadata": {},
   "outputs": [
    {
     "name": "stdout",
     "output_type": "stream",
     "text": [
      "78.0\n"
     ]
    }
   ],
   "source": [
    "list = [72,85,96,42,95]\n",
    "\n",
    "total = 0\n",
    "for i in range(0, len(list)):\n",
    "    total = total + list[i]\n",
    "\n",
    "avg = total/len(list)\n",
    "print(avg)\n",
    "\n"
   ]
  },
  {
   "cell_type": "code",
   "execution_count": 20,
   "metadata": {},
   "outputs": [
    {
     "name": "stdout",
     "output_type": "stream",
     "text": [
      "The student's average is: 78.0\n",
      "Grade: C\n"
     ]
    }
   ],
   "source": [
    "import numpy as np\n",
    "\n",
    "student_grades = [72,85,96,42,95]\n",
    "avg = np.mean(student_grades)\n",
    "print(\"The student's average is:\",avg)\n",
    "\n",
    "if avg > 90:\n",
    "    print('Grade: A')\n",
    "elif avg > 80:\n",
    "    print('Grade: B')\n",
    "elif avg > 70:\n",
    "    print('Grade: C')\n",
    "elif avg > 60:\n",
    "    print('Grade: D')\n",
    "elif avg > 50:\n",
    "    print('Grade: E')\n",
    "else:\n",
    "    print('The student has failed.')"
   ]
  },
  {
   "cell_type": "markdown",
   "metadata": {},
   "source": [
    "###  5.check if a triangle is equilateral, isosceles or scalene.\n",
    "\n",
    "Hint :\n",
    "1. An equilateral triangle is a triangle in which all three sides are equal.\n",
    "\n",
    "2. A scalene triangle is a triangle that has three unequal sides.\n",
    "\n",
    "3. An isosceles triangle is a triangle with (at least) two equal sides.\n",
    "\n",
    "Dimensions of triangle:\n",
    "\n",
    "side 1 = 6 \n",
    "\n",
    "side 2 = 8 \n",
    "\n",
    "side 3 = 12"
   ]
  },
  {
   "cell_type": "code",
   "execution_count": 26,
   "metadata": {},
   "outputs": [
    {
     "name": "stdout",
     "output_type": "stream",
     "text": [
      "The triangle with sides 6 , 8 , and 12 is a scalene triangle.\n"
     ]
    }
   ],
   "source": [
    "# My take on this problem.\n",
    "side1 = 6\n",
    "side2 = 8\n",
    "side3 = 12\n",
    "\n",
    "if (side1 == side2 == side3):\n",
    "    print('The triangle with sides',side1,',',side2,',','and',side3,'is an equilateral triangle.')\n",
    "    \n",
    "elif (side1 != side2 != side3):\n",
    "    print('The triangle with sides',side1,',',side2,',','and',side3,'is a scalene triangle.')\n",
    "    \n",
    "elif (side1 == side2 != side3) or (side1 != side2 == side3):\n",
    "    print('The triangle with sides',side1,',',side2,',','and',side3,'is an isosceles triangle.')"
   ]
  },
  {
   "cell_type": "code",
   "execution_count": 29,
   "metadata": {},
   "outputs": [
    {
     "name": "stdout",
     "output_type": "stream",
     "text": [
      "Scalene triangle\n"
     ]
    }
   ],
   "source": [
    "# Simplified version provided by the notebook solutions.\n",
    "x = 6\n",
    "y = 8\n",
    "z = 12\n",
    "if x == y == z:\n",
    "    print(\"Equilateral triangle\")\n",
    "elif x==y or y==z or z==x:\n",
    "    print(\"isosceles triangle\")\n",
    "else:\n",
    "    print(\"Scalene triangle\")"
   ]
  },
  {
   "cell_type": "markdown",
   "metadata": {},
   "source": [
    "### 6. Check if the word \"Data\" is present in the sentence \"I am a Data Scientist\". If found print \"It is present\" else print FALSE"
   ]
  },
  {
   "cell_type": "code",
   "execution_count": 28,
   "metadata": {},
   "outputs": [
    {
     "name": "stdout",
     "output_type": "stream",
     "text": [
      "It is present.\n"
     ]
    }
   ],
   "source": [
    "sentence = 'I am a Data Scientist'\n",
    "if 'Data' in sentence:\n",
    "    print('It is present.')\n",
    "else:\n",
    "    print('FALSE')"
   ]
  },
  {
   "cell_type": "markdown",
   "metadata": {},
   "source": [
    "### 7. Write python code to check if a number is positive or negative."
   ]
  },
  {
   "cell_type": "code",
   "execution_count": 33,
   "metadata": {},
   "outputs": [
    {
     "name": "stdout",
     "output_type": "stream",
     "text": [
      "Insert a number of your choice:\n",
      "-1\n",
      "This is a negative number.\n"
     ]
    }
   ],
   "source": [
    "print('Insert a number of your choice:')\n",
    "x = input()\n",
    "x = int(x)\n",
    "\n",
    "if x < 0:\n",
    "    print('This is a negative number.')\n",
    "else:\n",
    "    print('This is a positive number.')"
   ]
  },
  {
   "cell_type": "markdown",
   "metadata": {},
   "source": [
    "### 8. x = 20 and y = 30. Write a python code to check if x is less than y."
   ]
  },
  {
   "cell_type": "code",
   "execution_count": 36,
   "metadata": {},
   "outputs": [
    {
     "name": "stdout",
     "output_type": "stream",
     "text": [
      "x is less than y\n"
     ]
    }
   ],
   "source": [
    "x = 20 \n",
    "y = 30\n",
    "\n",
    "if x < y:\n",
    "    print('x is less than y')\n",
    "else:\n",
    "    print('x is greater than y')"
   ]
  },
  {
   "cell_type": "markdown",
   "metadata": {},
   "source": [
    "### 9. Based on the users age, divide them into three groups \n",
    "    Group 1 : Age <18 , Minors who are not eligible to work\n",
    "    Group 2 : 18 < Age < 60 , Eligible to work\n",
    "    Group 3 : Age > 60, Too old to work as per govt. regulations. \n",
    "\n",
    "### Write a python code for the same"
   ]
  },
  {
   "cell_type": "code",
   "execution_count": 44,
   "metadata": {},
   "outputs": [
    {
     "name": "stdout",
     "output_type": "stream",
     "text": [
      "Please enter your age.\n",
      "2\n",
      "Not eligible to work.\n"
     ]
    }
   ],
   "source": [
    "print(\"Please enter your age.\")\n",
    "age = int(input())\n",
    "\n",
    "if (age < 18):\n",
    "    print('Not eligible to work.')\n",
    "elif (18 <= age <= 60):\n",
    "    print('Eligible to work.')\n",
    "else:\n",
    "    print('Too old to work as per govt. regulations.')"
   ]
  },
  {
   "cell_type": "markdown",
   "metadata": {},
   "source": [
    "### 10. From the age of 3 people determine the oldest person among them.\n",
    "Age of first person = 25\n",
    "\n",
    "Age of second person = 34\n",
    "\n",
    "Age of third person = 45"
   ]
  },
  {
   "cell_type": "code",
   "execution_count": 52,
   "metadata": {},
   "outputs": [
    {
     "name": "stdout",
     "output_type": "stream",
     "text": [
      "From the 3 people, the oldest is 45 years old.\n"
     ]
    }
   ],
   "source": [
    "person1 = 25\n",
    "person2 = 34\n",
    "person3 = 45\n",
    "\n",
    "if person1 >= person2 and person1 >= person3:\n",
    "    print('From the 3 people, the oldest is',person1,'years old.')\n",
    "elif person2 >= person1 and person2 >= person3:\n",
    "    print('From the 3 people, the oldest is',person2,'years old.')\n",
    "elif person3 >= person1 and person3 >= person2:\n",
    "    print('From the 3 people, the oldest is',person3,'years old.')\n",
    "else:\n",
    "    print('They are all the same age.')"
   ]
  },
  {
   "cell_type": "code",
   "execution_count": 55,
   "metadata": {},
   "outputs": [
    {
     "name": "stdout",
     "output_type": "stream",
     "text": [
      "From the 3 people, the oldest is 45 years old.\n"
     ]
    }
   ],
   "source": [
    "print('From the 3 people, the oldest is',max(25,34,45),'years old.')"
   ]
  }
 ],
 "metadata": {
  "kernelspec": {
   "display_name": "Python 3",
   "language": "python",
   "name": "python3"
  },
  "language_info": {
   "codemirror_mode": {
    "name": "ipython",
    "version": 3
   },
   "file_extension": ".py",
   "mimetype": "text/x-python",
   "name": "python",
   "nbconvert_exporter": "python",
   "pygments_lexer": "ipython3",
   "version": "3.8.8"
  }
 },
 "nbformat": 4,
 "nbformat_minor": 4
}

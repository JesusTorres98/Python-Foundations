{
 "cells": [
  {
   "cell_type": "markdown",
   "id": "33e97709",
   "metadata": {},
   "source": [
    "# Flow Control\n",
    "\n",
    "    1. loops\n",
    "    2. conditionals\n",
    "\n",
    "\n",
    "## Loops \n",
    "\n",
    "A loop is an efficient way to tell the computer to perform a command mulitple times\n",
    "\n",
    "Each iteration of the loop can use new data to perform the command or depend on the previous loop\n",
    "\n",
    "There are 2 main types of loops: for, while"
   ]
  },
  {
   "cell_type": "code",
   "execution_count": 6,
   "id": "a66fd33a",
   "metadata": {},
   "outputs": [
    {
     "name": "stdout",
     "output_type": "stream",
     "text": [
      "0\n",
      "1\n",
      "2\n",
      "3\n",
      "4\n",
      "5\n",
      "6\n",
      "2143\n",
      "123\n",
      "7834\n",
      "this line is not inside the loop\n",
      "this loop cycled 10 times\n"
     ]
    }
   ],
   "source": [
    "# for loops\n",
    "# there are a few ways to go through a for loop\n",
    "# one common method is to loop through a list\n",
    "# it is also posible to loop through other types of aggregated variables\n",
    "# but one rule remains the same\n",
    "# the insides of a loop are determined by tabs!!!\n",
    "# this is also true for conditions and user defined functions!!!\n",
    "\n",
    "counter = 0\n",
    "simple_list = [0,1,2,3,4,5,6,2143,123,7834]\n",
    "for i in simple_list:\n",
    "    # the only lines that get executed in this loop are tabbed correctly!!!\n",
    "    print(i)\n",
    "    counter = counter + 1\n",
    "print('this line is not inside the loop')\n",
    "print('this loop cycled',counter,'times')"
   ]
  },
  {
   "cell_type": "code",
   "execution_count": 7,
   "id": "0507067b",
   "metadata": {},
   "outputs": [
    {
     "name": "stdout",
     "output_type": "stream",
     "text": [
      "4\n",
      "5\n",
      "6\n",
      "outside of j loop\n",
      "8\n",
      "10\n",
      "12\n",
      "outside of j loop\n",
      "12\n",
      "15\n",
      "18\n",
      "outside of j loop\n",
      "outside of both loops\n"
     ]
    }
   ],
   "source": [
    "# Nested loop: A loop(j) inside of another loop(i)\n",
    "\n",
    "for i in simple_list[1:4]: # indexes 1:4 of simple_list [1,2,3]\n",
    "    for j in simple_list[4:7]: # indexes 4:7 of simple_list [4,5,6]\n",
    "        print(i*j) \n",
    "    print('outside of j loop') # only prints for every i iteration\n",
    "print('outside of both loops') # not inside any loop so prints once and last\n",
    "\n",
    "# i = 1 for the first loop iteration\n",
    "# then it proceeds into the nested loop with a list of [4,5,6]\n",
    "# the first (i) loop iteration prints (i[1]*j[4,5,6])"
   ]
  },
  {
   "cell_type": "code",
   "execution_count": 8,
   "id": "0bae7a4f",
   "metadata": {},
   "outputs": [
    {
     "name": "stdout",
     "output_type": "stream",
     "text": [
      "range(0, 6)\n"
     ]
    }
   ],
   "source": [
    "# we may just want to loop over a range of values\n",
    "# we can do this with a 'range' type\n",
    "print(range(6))\n",
    "# start at 0 inclusive and end at 6 exclusive"
   ]
  },
  {
   "cell_type": "code",
   "execution_count": 9,
   "id": "baeaa567",
   "metadata": {},
   "outputs": [
    {
     "name": "stdout",
     "output_type": "stream",
     "text": [
      "0\n",
      "1\n",
      "2\n",
      "3\n",
      "4\n",
      "5\n"
     ]
    }
   ],
   "source": [
    "for i in range(6):\n",
    "    print(i)"
   ]
  },
  {
   "cell_type": "code",
   "execution_count": 11,
   "id": "5a369d3a",
   "metadata": {},
   "outputs": [
    {
     "name": "stdout",
     "output_type": "stream",
     "text": [
      "4\n",
      "5\n",
      "6\n",
      "7\n",
      "8\n",
      "9\n"
     ]
    }
   ],
   "source": [
    "# we can specify the starting point of a range also\n",
    "# remember that the left value is inclusive and the right is exclusive\n",
    "for i in range(4,10):\n",
    "    print(i)"
   ]
  },
  {
   "cell_type": "code",
   "execution_count": 12,
   "id": "185410fd",
   "metadata": {},
   "outputs": [
    {
     "name": "stdout",
     "output_type": "stream",
     "text": [
      "2\n",
      "4\n",
      "6\n",
      "8\n"
     ]
    }
   ],
   "source": [
    "# we can also increment by a specific amount\n",
    "for i in range(2,10,2):\n",
    "    print(i)\n"
   ]
  },
  {
   "cell_type": "code",
   "execution_count": 13,
   "id": "a03bac65",
   "metadata": {},
   "outputs": [
    {
     "data": {
      "text/plain": [
       "[6, 9, 12]"
      ]
     },
     "execution_count": 13,
     "metadata": {},
     "output_type": "execute_result"
    }
   ],
   "source": [
    "# we can convert a range type to a list through\n",
    "list(range(6,15,3))"
   ]
  },
  {
   "cell_type": "code",
   "execution_count": 15,
   "id": "43a7a22b",
   "metadata": {},
   "outputs": [
    {
     "name": "stdout",
     "output_type": "stream",
     "text": [
      "4\n",
      "5\n",
      "6\n",
      "7\n",
      "8\n",
      "9\n",
      "outside of loop\n"
     ]
    }
   ],
   "source": [
    "# while loops are similar to most other languages but\n",
    "# the inside of the while loop is still determined by tabs\n",
    "i = 4\n",
    "while i < 10: # have to make sure the condition is rejected at some point sine it will keep runnning inftly\n",
    "    print(i)\n",
    "    i = i + 1 # this parameter makes sure it doesnt run inftly\n",
    "print('outside of loop')"
   ]
  },
  {
   "cell_type": "markdown",
   "id": "e729ed18",
   "metadata": {},
   "source": [
    "# 1.6 Test Your Understanding"
   ]
  },
  {
   "cell_type": "code",
   "execution_count": 16,
   "id": "d8b5e8eb",
   "metadata": {},
   "outputs": [
    {
     "name": "stdout",
     "output_type": "stream",
     "text": [
      "range(0, 6)\n"
     ]
    }
   ],
   "source": [
    "print(range(6))"
   ]
  },
  {
   "cell_type": "code",
   "execution_count": 17,
   "id": "3108a132",
   "metadata": {},
   "outputs": [
    {
     "name": "stdout",
     "output_type": "stream",
     "text": [
      "2\n",
      "4\n",
      "6\n",
      "8\n"
     ]
    }
   ],
   "source": [
    "list = [1,2,3,4]\n",
    "for i in list:\n",
    "    print(i*2)"
   ]
  },
  {
   "cell_type": "markdown",
   "id": "4393c5b4",
   "metadata": {},
   "source": [
    "# Header\n",
    "## Sub-header\n",
    "### Sub-sub-header\n",
    "\n",
    "**Bold Text**\n",
    "\n",
    "*Italicised Text*\n",
    "\n",
    "Normal Text"
   ]
  },
  {
   "cell_type": "markdown",
   "id": "f64420b3",
   "metadata": {},
   "source": [
    "# Conditionals \n",
    "\n",
    "We will now look at conditional statements, there are 3 types of conditionals:\n",
    "\n",
    "    1. if statement\n",
    "    2. else statement\n",
    "    3. elif statement"
   ]
  },
  {
   "cell_type": "code",
   "execution_count": 18,
   "id": "4546803f",
   "metadata": {},
   "outputs": [
    {
     "name": "stdout",
     "output_type": "stream",
     "text": [
      "30 is greater than or equal to 10\n"
     ]
    }
   ],
   "source": [
    "i = 30\n",
    "if i<10:\n",
    "    print(i,'is less than 10')\n",
    "else:\n",
    "    print(i,'is greater than or equal to 10')"
   ]
  },
  {
   "cell_type": "code",
   "execution_count": 25,
   "id": "30ffbb3a",
   "metadata": {},
   "outputs": [
    {
     "name": "stdout",
     "output_type": "stream",
     "text": [
      "3 is between 3 and 10\n"
     ]
    }
   ],
   "source": [
    "i = 3\n",
    "if i>10:\n",
    "    print(i,'is greater than 10')\n",
    "elif i<3:\n",
    "    print(i,'is less than 3')\n",
    "elif i>4:\n",
    "    print(i)\n",
    "else:\n",
    "    print(i,'is between 3 and 10')"
   ]
  },
  {
   "cell_type": "markdown",
   "id": "ee64f139",
   "metadata": {},
   "source": [
    "# 1.7 Test Your Understanding"
   ]
  },
  {
   "cell_type": "code",
   "execution_count": 26,
   "id": "6d0f5f65",
   "metadata": {},
   "outputs": [
    {
     "name": "stdout",
     "output_type": "stream",
     "text": [
      "3 is between 3 and 10\n"
     ]
    }
   ],
   "source": [
    "i=3\n",
    "if i>10:\n",
    " print (i, 'is greater than 10')\n",
    "elif i<3:\n",
    " print (i, 'is less than 3')\n",
    "elif i>4:\n",
    " print (i)\n",
    "else:\n",
    " print (i,'is between 3 and 10')"
   ]
  },
  {
   "cell_type": "code",
   "execution_count": 27,
   "id": "942782d0",
   "metadata": {},
   "outputs": [
    {
     "name": "stdout",
     "output_type": "stream",
     "text": [
      "3 is less than or equal to 3\n"
     ]
    }
   ],
   "source": [
    "i=3\n",
    "if i>10:\n",
    " print (i, 'is greater than 10')\n",
    "elif i<=3:\n",
    " print (i, 'is less than or equal to 3')\n",
    "elif i>4:\n",
    " print (i)\n",
    "else:\n",
    " print (i,'is between 3 and 10')"
   ]
  },
  {
   "cell_type": "code",
   "execution_count": 28,
   "id": "c1f4be5a",
   "metadata": {},
   "outputs": [
    {
     "name": "stdout",
     "output_type": "stream",
     "text": [
      "3 is less than 10\n"
     ]
    }
   ],
   "source": [
    "i=3\n",
    "if i<10:\n",
    " print (i, 'is less than 10')\n",
    "elif i<=3:\n",
    " print (i, 'is less than or equal to 3')\n",
    "elif i>4:\n",
    " print (i)\n",
    "else:\n",
    " print (i,'is between 3 and 10')"
   ]
  },
  {
   "cell_type": "code",
   "execution_count": null,
   "id": "2a01c565",
   "metadata": {},
   "outputs": [],
   "source": []
  }
 ],
 "metadata": {
  "kernelspec": {
   "display_name": "Python 3",
   "language": "python",
   "name": "python3"
  },
  "language_info": {
   "codemirror_mode": {
    "name": "ipython",
    "version": 3
   },
   "file_extension": ".py",
   "mimetype": "text/x-python",
   "name": "python",
   "nbconvert_exporter": "python",
   "pygments_lexer": "ipython3",
   "version": "3.8.8"
  }
 },
 "nbformat": 4,
 "nbformat_minor": 5
}

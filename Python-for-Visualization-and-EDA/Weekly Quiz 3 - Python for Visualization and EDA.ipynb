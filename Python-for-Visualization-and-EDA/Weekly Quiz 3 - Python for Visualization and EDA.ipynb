{
 "cells": [
  {
   "cell_type": "code",
   "execution_count": null,
   "id": "3c96c928",
   "metadata": {},
   "outputs": [],
   "source": [
    "# Which of the following can be used to see the frequency distribution of a categorical variable?\n",
    "\n",
    "# Answer: sns.countplot()"
   ]
  },
  {
   "cell_type": "code",
   "execution_count": null,
   "id": "e1f42c60",
   "metadata": {},
   "outputs": [],
   "source": [
    "# Bivariate distribution can be visualized using, (choose all the answers that are applicable)\n",
    "\n",
    "# A. distplot\n",
    "# B. jointplot\n",
    "# C. pairplot\n",
    "# D. None of the above\n",
    "\n",
    "# Answer: B and C"
   ]
  },
  {
   "cell_type": "code",
   "execution_count": null,
   "id": "5dd4425d",
   "metadata": {},
   "outputs": [],
   "source": [
    "# Which of the options outputs the following plot? where 'auto' is the dataframe and 'cyl' and 'yr' are two of its attributes.\n",
    "\n",
    "# Answer: sns.boxplot(auto['yr'],auto['cyl'])"
   ]
  },
  {
   "cell_type": "code",
   "execution_count": 1,
   "id": "4e815326",
   "metadata": {},
   "outputs": [],
   "source": [
    "# Which of the following is a plot of multiple variables together showing multiple univariate and bivariate plots\n",
    "\n",
    "# Answer: pairplot"
   ]
  },
  {
   "cell_type": "code",
   "execution_count": 2,
   "id": "0bca15bd",
   "metadata": {},
   "outputs": [],
   "source": [
    "# Which of the following code is right for the below output?\n",
    "\n",
    "# Answer: sns.pointplot(auto['yr'],auto['acc']); plt.show()"
   ]
  },
  {
   "cell_type": "code",
   "execution_count": 3,
   "id": "ad8a617b",
   "metadata": {},
   "outputs": [],
   "source": [
    "# According to the snapshot attached, what do you think is the plot from seaborn used?\n",
    "\n",
    "# Answer: distplot(auto['disp']); plt.show()"
   ]
  },
  {
   "cell_type": "code",
   "execution_count": 4,
   "id": "52580806",
   "metadata": {},
   "outputs": [],
   "source": [
    "# For the following problem, determine which type of data we are dealing with:\n",
    "# We have data on the colors of backpacks students use. We have five data points. One student has a blue backpack, two students have brown backpacks, one student has a pink backpack, and one student has a purple backpack\n",
    "\n",
    "# Student\tBackpack color\n",
    "# 1\tBlue\n",
    "# 2\tBrown\n",
    "# 3\tBrown\n",
    "# 4\tPurple\n",
    "# 5\tPink\n",
    "\n",
    "# Qualitative Data"
   ]
  },
  {
   "cell_type": "code",
   "execution_count": 5,
   "id": "fee64c45",
   "metadata": {},
   "outputs": [],
   "source": [
    "# Which of the following is true according to the below code?\n",
    "\n",
    "# sns.displot(auto['disp'],kde=False, rug=True)\n",
    "# plt.show()\n",
    "\n",
    "# "
   ]
  },
  {
   "cell_type": "code",
   "execution_count": 6,
   "id": "818d5455",
   "metadata": {},
   "outputs": [],
   "source": [
    "# Which of the following is an appropriate choice for bivariate and univariate graphs of two variables?"
   ]
  },
  {
   "cell_type": "code",
   "execution_count": 7,
   "id": "e1386775",
   "metadata": {},
   "outputs": [],
   "source": [
    "# The most convenient way to take a quick look at a univariate distribution in seaborn is the _________ function. By default, this will draw a histogram and fit a kernel density estimate (KDE).\n",
    "\n",
    "# Answer: distplot"
   ]
  },
  {
   "cell_type": "code",
   "execution_count": 8,
   "id": "b0167b1a",
   "metadata": {},
   "outputs": [],
   "source": [
    "# For the following study, identify both the parameters and statistic in the study-\n",
    "# An organization of energy and resources wants to estimate the average oil output per well in the UAE. From a random sample of 70 wells throughout the UAE, the organization obtains a sample mean of 20.5 barrels per day.\n",
    "\n",
    "# Parameter - The average oil output per well in the UAE.\n",
    "# Statistic - The mean oil output of 20.5 barrels per day from the sample of 70 wells."
   ]
  },
  {
   "cell_type": "code",
   "execution_count": 9,
   "id": "d53066db",
   "metadata": {},
   "outputs": [],
   "source": [
    "# What do you think is the additional argument given in this plot?\n",
    "\n",
    "# Answer: kind = 'hex'"
   ]
  },
  {
   "cell_type": "code",
   "execution_count": 10,
   "id": "f05a6165",
   "metadata": {},
   "outputs": [],
   "source": [
    "# Guess the code for the below output, where 'auto' is the dataframe and 'acc' and 'disp' are two of its attributes.\n",
    "\n",
    "# Answer: sns.pairplot(auto[['acc','disp']])"
   ]
  },
  {
   "cell_type": "code",
   "execution_count": 11,
   "id": "06b237ca",
   "metadata": {},
   "outputs": [],
   "source": [
    "# Which of the following is the formula for range?\n",
    "\n",
    "# Answer: X(max) - X(min)"
   ]
  },
  {
   "cell_type": "code",
   "execution_count": 12,
   "id": "b1f38b5a",
   "metadata": {},
   "outputs": [],
   "source": [
    "# Which of the following is correct to return the below output?\n",
    "\n",
    "# Answer: sns.stripplot(auto['wt'],auto['cyl'])"
   ]
  },
  {
   "cell_type": "code",
   "execution_count": null,
   "id": "8f7645ca",
   "metadata": {},
   "outputs": [],
   "source": []
  }
 ],
 "metadata": {
  "kernelspec": {
   "display_name": "Python 3",
   "language": "python",
   "name": "python3"
  },
  "language_info": {
   "codemirror_mode": {
    "name": "ipython",
    "version": 3
   },
   "file_extension": ".py",
   "mimetype": "text/x-python",
   "name": "python",
   "nbconvert_exporter": "python",
   "pygments_lexer": "ipython3",
   "version": "3.8.8"
  }
 },
 "nbformat": 4,
 "nbformat_minor": 5
}
